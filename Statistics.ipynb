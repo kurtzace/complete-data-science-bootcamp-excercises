{
  "nbformat": 4,
  "nbformat_minor": 0,
  "metadata": {
    "colab": {
      "name": "Statistics.ipynb",
      "provenance": [],
      "collapsed_sections": [],
      "authorship_tag": "ABX9TyOPnv5FKii+FlZt49MJUsTw",
      "include_colab_link": true
    },
    "kernelspec": {
      "name": "python3",
      "display_name": "Python 3"
    }
  },
  "cells": [
    {
      "cell_type": "markdown",
      "metadata": {
        "id": "view-in-github",
        "colab_type": "text"
      },
      "source": [
        "<a href=\"https://colab.research.google.com/github/kurtzace/complete-data-science-bootcamp-excercises/blob/main/Statistics.ipynb\" target=\"_parent\"><img src=\"https://colab.research.google.com/assets/colab-badge.svg\" alt=\"Open In Colab\"/></a>"
      ]
    },
    {
      "cell_type": "markdown",
      "metadata": {
        "id": "YDjpCqNS_BaH"
      },
      "source": [
        "\r\n",
        "Categorical variables. Visualization techniques |   scene\r\n",
        "-- | --\r\n",
        "Background | There is an ice cream   shop, that is operating in New York, LA and San Francisco.\r\n",
        "Data | You have sold 12,327 ice   creams in New York; 17,129 in LA and 19,923 in San Francisco.\r\n",
        "Task | Order the data in a   frequency distribution table. |   |  "
      ]
    },
    {
      "cell_type": "code",
      "metadata": {
        "id": "w0SXx4BDMIlt"
      },
      "source": [
        "#imports\r\n",
        "import matplotlib.pyplot as plt\r\n",
        "import pandas as pd\r\n",
        "import numpy as np\r\n",
        "import math as math"
      ],
      "execution_count": 2,
      "outputs": []
    },
    {
      "cell_type": "code",
      "metadata": {
        "colab": {
          "base_uri": "https://localhost:8080/",
          "height": 143
        },
        "id": "wHFphgFK-qJP",
        "outputId": "b3dea39f-cbdc-44b8-9c66-d4b5a5e800da"
      },
      "source": [
        "\r\n",
        "data = [['NY',12327],['LA',17129],['SF',19923]]\r\n",
        "df = pd.DataFrame(data,columns=['City','Sold'])\r\n",
        "df"
      ],
      "execution_count": null,
      "outputs": [
        {
          "output_type": "execute_result",
          "data": {
            "text/html": [
              "<div>\n",
              "<style scoped>\n",
              "    .dataframe tbody tr th:only-of-type {\n",
              "        vertical-align: middle;\n",
              "    }\n",
              "\n",
              "    .dataframe tbody tr th {\n",
              "        vertical-align: top;\n",
              "    }\n",
              "\n",
              "    .dataframe thead th {\n",
              "        text-align: right;\n",
              "    }\n",
              "</style>\n",
              "<table border=\"1\" class=\"dataframe\">\n",
              "  <thead>\n",
              "    <tr style=\"text-align: right;\">\n",
              "      <th></th>\n",
              "      <th>City</th>\n",
              "      <th>Sold</th>\n",
              "    </tr>\n",
              "  </thead>\n",
              "  <tbody>\n",
              "    <tr>\n",
              "      <th>0</th>\n",
              "      <td>NY</td>\n",
              "      <td>12327</td>\n",
              "    </tr>\n",
              "    <tr>\n",
              "      <th>1</th>\n",
              "      <td>LA</td>\n",
              "      <td>17129</td>\n",
              "    </tr>\n",
              "    <tr>\n",
              "      <th>2</th>\n",
              "      <td>SF</td>\n",
              "      <td>19923</td>\n",
              "    </tr>\n",
              "  </tbody>\n",
              "</table>\n",
              "</div>"
            ],
            "text/plain": [
              "  City   Sold\n",
              "0   NY  12327\n",
              "1   LA  17129\n",
              "2   SF  19923"
            ]
          },
          "metadata": {
            "tags": []
          },
          "execution_count": 2
        }
      ]
    },
    {
      "cell_type": "code",
      "metadata": {
        "colab": {
          "base_uri": "https://localhost:8080/",
          "height": 283
        },
        "id": "trug_CudAGCj",
        "outputId": "ba3c0b1d-a132-42b8-b7be-bf1d821e3523"
      },
      "source": [
        "\r\n",
        "plt.bar(df[\"City\"],df[\"Sold\"])"
      ],
      "execution_count": null,
      "outputs": [
        {
          "output_type": "execute_result",
          "data": {
            "text/plain": [
              "<BarContainer object of 3 artists>"
            ]
          },
          "metadata": {
            "tags": []
          },
          "execution_count": 3
        },
        {
          "output_type": "display_data",
          "data": {
            "image/png": "[encoded data removed]",
            "text/plain": [
              "<Figure size 432x288 with 1 Axes>"
            ]
          },
          "metadata": {
            "tags": [],
            "needs_background": "light"
          }
        }
      ]
    },
    {
      "cell_type": "code",
      "metadata": {
        "colab": {
          "base_uri": "https://localhost:8080/",
          "height": 143
        },
        "id": "RR9-4EdBEIq0",
        "outputId": "69a87c0c-7f96-45fa-d088-cd9cad34b209"
      },
      "source": [
        "df['relFreq']=df[\"Sold\"]/(df[\"Sold\"].sum())\r\n",
        "df"
      ],
      "execution_count": null,
      "outputs": [
        {
          "output_type": "execute_result",
          "data": {
            "text/html": [
              "<div>\n",
              "<style scoped>\n",
              "    .dataframe tbody tr th:only-of-type {\n",
              "        vertical-align: middle;\n",
              "    }\n",
              "\n",
              "    .dataframe tbody tr th {\n",
              "        vertical-align: top;\n",
              "    }\n",
              "\n",
              "    .dataframe thead th {\n",
              "        text-align: right;\n",
              "    }\n",
              "</style>\n",
              "<table border=\"1\" class=\"dataframe\">\n",
              "  <thead>\n",
              "    <tr style=\"text-align: right;\">\n",
              "      <th></th>\n",
              "      <th>City</th>\n",
              "      <th>Sold</th>\n",
              "      <th>relFreq</th>\n",
              "    </tr>\n",
              "  </thead>\n",
              "  <tbody>\n",
              "    <tr>\n",
              "      <th>0</th>\n",
              "      <td>NY</td>\n",
              "      <td>12327</td>\n",
              "      <td>0.249641</td>\n",
              "    </tr>\n",
              "    <tr>\n",
              "      <th>1</th>\n",
              "      <td>LA</td>\n",
              "      <td>17129</td>\n",
              "      <td>0.346888</td>\n",
              "    </tr>\n",
              "    <tr>\n",
              "      <th>2</th>\n",
              "      <td>SF</td>\n",
              "      <td>19923</td>\n",
              "      <td>0.403471</td>\n",
              "    </tr>\n",
              "  </tbody>\n",
              "</table>\n",
              "</div>"
            ],
            "text/plain": [
              "  City   Sold   relFreq\n",
              "0   NY  12327  0.249641\n",
              "1   LA  17129  0.346888\n",
              "2   SF  19923  0.403471"
            ]
          },
          "metadata": {
            "tags": []
          },
          "execution_count": 18
        }
      ]
    },
    {
      "cell_type": "code",
      "metadata": {
        "colab": {
          "base_uri": "https://localhost:8080/",
          "height": 357
        },
        "id": "JshXPfd5WQtX",
        "outputId": "148bf918-e459-481c-c3bb-836b90453289"
      },
      "source": [
        "plt.pie(df[\"relFreq\"], labels=df[\"City\"])"
      ],
      "execution_count": null,
      "outputs": [
        {
          "output_type": "execute_result",
          "data": {
            "text/plain": [
              "([<matplotlib.patches.Wedge at 0x7f2e0897d610>,\n",
              "  <matplotlib.patches.Wedge at 0x7f2e0897d910>,\n",
              "  <matplotlib.patches.Wedge at 0x7f2e0897d9d0>],\n",
              " [Text(0.7786953361784816, 0.7769385905037035, 'NY'),\n",
              "  Text(-0.9740266733802704, 0.5111477668382838, 'LA'),\n",
              "  Text(0.32849059675245446, -1.0498066144986975, 'SF')])"
            ]
          },
          "metadata": {
            "tags": []
          },
          "execution_count": 22
        },
        {
          "output_type": "display_data",
          "data": {
            "image/png": "[encoded data removed]",
            "text/plain": [
              "<Figure size 432x288 with 1 Axes>"
            ]
          },
          "metadata": {
            "tags": []
          }
        }
      ]
    },
    {
      "cell_type": "code",
      "metadata": {
        "id": "APzrI8IVWtO4"
      },
      "source": [
        "df = df.sort_values(\"Sold\", ascending=False,axis=0)"
      ],
      "execution_count": null,
      "outputs": []
    },
    {
      "cell_type": "code",
      "metadata": {
        "colab": {
          "base_uri": "https://localhost:8080/",
          "height": 338
        },
        "id": "uelY2Xh7YMuX",
        "outputId": "de1a9b9b-fb7e-46d3-bad4-505ff94928d5"
      },
      "source": [
        "df[\"Cumulative\"]=df[\"relFreq\"].cumsum()\r\n",
        "print(df)\r\n",
        "plt.bar(df[\"City\"],df[\"relFreq\"])\r\n",
        "plt.plot(df[\"City\"],df[\"Cumulative\"],'r')\r\n",
        "plt.show()"
      ],
      "execution_count": null,
      "outputs": [
        {
          "output_type": "stream",
          "text": [
            "  City   Sold   relFreq  Cumulative\n",
            "2   SF  19923  0.403471    0.403471\n",
            "1   LA  17129  0.346888    0.750359\n",
            "0   NY  12327  0.249641    1.000000\n"
          ],
          "name": "stdout"
        },
        {
          "output_type": "display_data",
          "data": {
            "image/png": "[encoded data removed]",
            "text/plain": [
              "<Figure size 432x288 with 1 Axes>"
            ]
          },
          "metadata": {
            "tags": [],
            "needs_background": "light"
          }
        }
      ]
    },
    {
      "cell_type": "code",
      "metadata": {
        "id": "vHgy-4OA_BB4"
      },
      "source": [
        "## Distribution"
      ],
      "execution_count": null,
      "outputs": []
    },
    {
      "cell_type": "markdown",
      "metadata": {
        "id": "V2AosfSXCrmA"
      },
      "source": [
        "## Distribution\r\n",
        "\r\n",
        "### Dataset\r\n",
        "\r\n",
        "```\r\n",
        "13\r\n",
        "68\r\n",
        "165\r\n",
        "193\r\n",
        "216\r\n",
        "228\r\n",
        "361\r\n",
        "470\r\n",
        "500\r\n",
        "529\r\n",
        "544\r\n",
        "602\r\n",
        "647\r\n",
        "692\r\n",
        "696\r\n",
        "699\r\n",
        "809\r\n",
        "892\r\n",
        "899\r\n",
        "936\r\n",
        "```\r\n",
        "Frequency distribution table\r\n",
        "Desired intervals | 10\r\n",
        "\r\n"
      ]
    },
    {
      "cell_type": "markdown",
      "metadata": {
        "id": "t3muHiHr_Bxi"
      },
      "source": [
        "![image](https://user-images.githubusercontent.com/2136211/110235074-1a4a7600-7f54-11eb-8ad7-9e4e47ec88e8.png)\r\n"
      ]
    },
    {
      "cell_type": "code",
      "metadata": {
        "id": "UNtjWFPx_Zhh"
      },
      "source": [
        "distlist = [13,68,165,193,216,228,361,470,500,529,544,602,647,692,696,699,809,892,899,936]"
      ],
      "execution_count": null,
      "outputs": []
    },
    {
      "cell_type": "code",
      "metadata": {
        "id": "mlBOUY9JAPIy"
      },
      "source": [
        "df = pd.DataFrame(distlist)"
      ],
      "execution_count": null,
      "outputs": []
    },
    {
      "cell_type": "code",
      "metadata": {
        "colab": {
          "base_uri": "https://localhost:8080/",
          "height": 381
        },
        "id": "kHDk18e0CaWi",
        "outputId": "204eb740-4839-4ae8-c529-961ff84af66f"
      },
      "source": [
        "\r\n",
        "interval_width = math.ceil((df.stack().max() - df.stack().min())/10)\r\n",
        "print(interval_width)\r\n",
        "bins = np.arange(df.stack().min(),df.stack().max()+interval_width,interval_width)\r\n",
        "df=df.apply(lambda x: pd.cut(x, bins=bins).value_counts())\r\n",
        "df\r\n",
        "## idea from https://stackoverflow.com/a/45806493"
      ],
      "execution_count": null,
      "outputs": [
        {
          "output_type": "stream",
          "text": [
            "93\n"
          ],
          "name": "stdout"
        },
        {
          "output_type": "execute_result",
          "data": {
            "text/html": [
              "<div>\n",
              "<style scoped>\n",
              "    .dataframe tbody tr th:only-of-type {\n",
              "        vertical-align: middle;\n",
              "    }\n",
              "\n",
              "    .dataframe tbody tr th {\n",
              "        vertical-align: top;\n",
              "    }\n",
              "\n",
              "    .dataframe thead th {\n",
              "        text-align: right;\n",
              "    }\n",
              "</style>\n",
              "<table border=\"1\" class=\"dataframe\">\n",
              "  <thead>\n",
              "    <tr style=\"text-align: right;\">\n",
              "      <th></th>\n",
              "      <th>0</th>\n",
              "    </tr>\n",
              "  </thead>\n",
              "  <tbody>\n",
              "    <tr>\n",
              "      <th>(850, 943]</th>\n",
              "      <td>3</td>\n",
              "    </tr>\n",
              "    <tr>\n",
              "      <th>(664, 757]</th>\n",
              "      <td>3</td>\n",
              "    </tr>\n",
              "    <tr>\n",
              "      <th>(478, 571]</th>\n",
              "      <td>3</td>\n",
              "    </tr>\n",
              "    <tr>\n",
              "      <th>(571, 664]</th>\n",
              "      <td>2</td>\n",
              "    </tr>\n",
              "    <tr>\n",
              "      <th>(199, 292]</th>\n",
              "      <td>2</td>\n",
              "    </tr>\n",
              "    <tr>\n",
              "      <th>(106, 199]</th>\n",
              "      <td>2</td>\n",
              "    </tr>\n",
              "    <tr>\n",
              "      <th>(757, 850]</th>\n",
              "      <td>1</td>\n",
              "    </tr>\n",
              "    <tr>\n",
              "      <th>(385, 478]</th>\n",
              "      <td>1</td>\n",
              "    </tr>\n",
              "    <tr>\n",
              "      <th>(292, 385]</th>\n",
              "      <td>1</td>\n",
              "    </tr>\n",
              "    <tr>\n",
              "      <th>(13, 106]</th>\n",
              "      <td>1</td>\n",
              "    </tr>\n",
              "  </tbody>\n",
              "</table>\n",
              "</div>"
            ],
            "text/plain": [
              "            0\n",
              "(850, 943]  3\n",
              "(664, 757]  3\n",
              "(478, 571]  3\n",
              "(571, 664]  2\n",
              "(199, 292]  2\n",
              "(106, 199]  2\n",
              "(757, 850]  1\n",
              "(385, 478]  1\n",
              "(292, 385]  1\n",
              "(13, 106]   1"
            ]
          },
          "metadata": {
            "tags": []
          },
          "execution_count": 82
        }
      ]
    },
    {
      "cell_type": "code",
      "metadata": {
        "colab": {
          "base_uri": "https://localhost:8080/",
          "height": 363
        },
        "id": "9G6eeltRFLKg",
        "outputId": "14d936b0-269c-4d06-e568-627024e68a35"
      },
      "source": [
        "df['relFreq']=round(df[0]/(df[0].sum()),2)\r\n",
        "df"
      ],
      "execution_count": null,
      "outputs": [
        {
          "output_type": "execute_result",
          "data": {
            "text/html": [
              "<div>\n",
              "<style scoped>\n",
              "    .dataframe tbody tr th:only-of-type {\n",
              "        vertical-align: middle;\n",
              "    }\n",
              "\n",
              "    .dataframe tbody tr th {\n",
              "        vertical-align: top;\n",
              "    }\n",
              "\n",
              "    .dataframe thead th {\n",
              "        text-align: right;\n",
              "    }\n",
              "</style>\n",
              "<table border=\"1\" class=\"dataframe\">\n",
              "  <thead>\n",
              "    <tr style=\"text-align: right;\">\n",
              "      <th></th>\n",
              "      <th>0</th>\n",
              "      <th>relFreq</th>\n",
              "    </tr>\n",
              "  </thead>\n",
              "  <tbody>\n",
              "    <tr>\n",
              "      <th>(850, 943]</th>\n",
              "      <td>3</td>\n",
              "      <td>0.16</td>\n",
              "    </tr>\n",
              "    <tr>\n",
              "      <th>(664, 757]</th>\n",
              "      <td>3</td>\n",
              "      <td>0.16</td>\n",
              "    </tr>\n",
              "    <tr>\n",
              "      <th>(478, 571]</th>\n",
              "      <td>3</td>\n",
              "      <td>0.16</td>\n",
              "    </tr>\n",
              "    <tr>\n",
              "      <th>(571, 664]</th>\n",
              "      <td>2</td>\n",
              "      <td>0.11</td>\n",
              "    </tr>\n",
              "    <tr>\n",
              "      <th>(199, 292]</th>\n",
              "      <td>2</td>\n",
              "      <td>0.11</td>\n",
              "    </tr>\n",
              "    <tr>\n",
              "      <th>(106, 199]</th>\n",
              "      <td>2</td>\n",
              "      <td>0.11</td>\n",
              "    </tr>\n",
              "    <tr>\n",
              "      <th>(757, 850]</th>\n",
              "      <td>1</td>\n",
              "      <td>0.05</td>\n",
              "    </tr>\n",
              "    <tr>\n",
              "      <th>(385, 478]</th>\n",
              "      <td>1</td>\n",
              "      <td>0.05</td>\n",
              "    </tr>\n",
              "    <tr>\n",
              "      <th>(292, 385]</th>\n",
              "      <td>1</td>\n",
              "      <td>0.05</td>\n",
              "    </tr>\n",
              "    <tr>\n",
              "      <th>(13, 106]</th>\n",
              "      <td>1</td>\n",
              "      <td>0.05</td>\n",
              "    </tr>\n",
              "  </tbody>\n",
              "</table>\n",
              "</div>"
            ],
            "text/plain": [
              "            0  relFreq\n",
              "(850, 943]  3     0.16\n",
              "(664, 757]  3     0.16\n",
              "(478, 571]  3     0.16\n",
              "(571, 664]  2     0.11\n",
              "(199, 292]  2     0.11\n",
              "(106, 199]  2     0.11\n",
              "(757, 850]  1     0.05\n",
              "(385, 478]  1     0.05\n",
              "(292, 385]  1     0.05\n",
              "(13, 106]   1     0.05"
            ]
          },
          "metadata": {
            "tags": []
          },
          "execution_count": 83
        }
      ]
    },
    {
      "cell_type": "code",
      "metadata": {
        "colab": {
          "base_uri": "https://localhost:8080/",
          "height": 283
        },
        "id": "jYo9AaI4GmwQ",
        "outputId": "3a22e41d-4f01-4894-b618-590e0b13e1fe"
      },
      "source": [
        "df=df.reset_index()\r\n",
        "df[\"index_str\"]=df[\"index\"].apply(lambda x:str(x))\r\n",
        "plt.bar(df[\"index_str\"],df['relFreq'])"
      ],
      "execution_count": null,
      "outputs": [
        {
          "output_type": "execute_result",
          "data": {
            "text/plain": [
              "<BarContainer object of 10 artists>"
            ]
          },
          "metadata": {
            "tags": []
          },
          "execution_count": 95
        },
        {
          "output_type": "display_data",
          "data": {
            "image/png": "[encoded data removed]",
            "text/plain": [
              "<Figure size 432x288 with 1 Axes>"
            ]
          },
          "metadata": {
            "tags": [],
            "needs_background": "light"
          }
        }
      ]
    },
    {
      "cell_type": "markdown",
      "metadata": {
        "id": "B32Z5BdrNmLe"
      },
      "source": [
        "## Cross Tables and Scatter Plots Exercise\r\n",
        "\r\n",
        "\r\n",
        "\r\n",
        "Background | You are given the closing stock   prices of Apple, Alphabet Inc. (Google) and Bank of America on different   dates for a period of 6 months.\r\n",
        "-- | --\r\n",
        "Task 1 | Create a scatter plot with Apple and Alphabet stock   prices.\r\n",
        "Task 2 | Create a scatter plot with Apple and Bank of America stock   prices\r\n",
        "Task 3 | Explore if there is a relationship between the two variables.\r\n",
        "\r\n",
        "\r\n",
        "\r\n",
        "\r\n",
        "\r\n"
      ]
    },
    {
      "cell_type": "code",
      "metadata": {
        "id": "QaOpLJLWNneA",
        "colab": {
          "base_uri": "https://localhost:8080/",
          "height": 206
        },
        "outputId": "22125d99-2b7b-476a-917b-565090d65da6"
      },
      "source": [
        "df = pd.read_csv(\"https://raw.githubusercontent.com/kurtzace/complete-data-science-bootcamp-excercises/main/statisticsfiles/scatter.csv\")\r\n",
        "df.head()"
      ],
      "execution_count": null,
      "outputs": [
        {
          "output_type": "execute_result",
          "data": {
            "text/html": [
              "<div>\n",
              "<style scoped>\n",
              "    .dataframe tbody tr th:only-of-type {\n",
              "        vertical-align: middle;\n",
              "    }\n",
              "\n",
              "    .dataframe tbody tr th {\n",
              "        vertical-align: top;\n",
              "    }\n",
              "\n",
              "    .dataframe thead th {\n",
              "        text-align: right;\n",
              "    }\n",
              "</style>\n",
              "<table border=\"1\" class=\"dataframe\">\n",
              "  <thead>\n",
              "    <tr style=\"text-align: right;\">\n",
              "      <th></th>\n",
              "      <th>Date</th>\n",
              "      <th>Apple (AAPL)</th>\n",
              "      <th>Alphabet (GOOGL)</th>\n",
              "      <th>Bank of America (BAC)</th>\n",
              "    </tr>\n",
              "  </thead>\n",
              "  <tbody>\n",
              "    <tr>\n",
              "      <th>0</th>\n",
              "      <td>1/3/2017</td>\n",
              "      <td>116.15</td>\n",
              "      <td>808.01</td>\n",
              "      <td>22.53</td>\n",
              "    </tr>\n",
              "    <tr>\n",
              "      <th>1</th>\n",
              "      <td>1/4/2017</td>\n",
              "      <td>116.02</td>\n",
              "      <td>807.77</td>\n",
              "      <td>22.95</td>\n",
              "    </tr>\n",
              "    <tr>\n",
              "      <th>2</th>\n",
              "      <td>1/5/2017</td>\n",
              "      <td>116.61</td>\n",
              "      <td>813.02</td>\n",
              "      <td>22.68</td>\n",
              "    </tr>\n",
              "    <tr>\n",
              "      <th>3</th>\n",
              "      <td>1/6/2017</td>\n",
              "      <td>117.91</td>\n",
              "      <td>825.21</td>\n",
              "      <td>22.68</td>\n",
              "    </tr>\n",
              "    <tr>\n",
              "      <th>4</th>\n",
              "      <td>1/9/2017</td>\n",
              "      <td>118.99</td>\n",
              "      <td>827.18</td>\n",
              "      <td>22.55</td>\n",
              "    </tr>\n",
              "  </tbody>\n",
              "</table>\n",
              "</div>"
            ],
            "text/plain": [
              "       Date  Apple (AAPL)  Alphabet (GOOGL)  Bank of America (BAC)\n",
              "0  1/3/2017        116.15            808.01                  22.53\n",
              "1  1/4/2017        116.02            807.77                  22.95\n",
              "2  1/5/2017        116.61            813.02                  22.68\n",
              "3  1/6/2017        117.91            825.21                  22.68\n",
              "4  1/9/2017        118.99            827.18                  22.55"
            ]
          },
          "metadata": {
            "tags": []
          },
          "execution_count": 96
        }
      ]
    },
    {
      "cell_type": "code",
      "metadata": {
        "id": "kCsml6-zP2p1",
        "colab": {
          "base_uri": "https://localhost:8080/",
          "height": 283
        },
        "outputId": "3aa961d2-9af8-48a2-d224-00aa2f08debd"
      },
      "source": [
        "plt.scatter(df['Apple (AAPL)'],df['Alphabet (GOOGL)'])"
      ],
      "execution_count": null,
      "outputs": [
        {
          "output_type": "execute_result",
          "data": {
            "text/plain": [
              "<matplotlib.collections.PathCollection at 0x7f2e07c97b50>"
            ]
          },
          "metadata": {
            "tags": []
          },
          "execution_count": 98
        },
        {
          "output_type": "display_data",
          "data": {
            "image/png": "[encoded data removed]",
            "text/plain": [
              "<Figure size 432x288 with 1 Axes>"
            ]
          },
          "metadata": {
            "tags": [],
            "needs_background": "light"
          }
        }
      ]
    },
    {
      "cell_type": "code",
      "metadata": {
        "id": "4UeQEPyCQSE-",
        "colab": {
          "base_uri": "https://localhost:8080/",
          "height": 283
        },
        "outputId": "1aedb288-9d99-4ac1-d843-8f82d981fae4"
      },
      "source": [
        "plt.scatter(df['Apple (AAPL)'],df['Bank of America (BAC)'])"
      ],
      "execution_count": null,
      "outputs": [
        {
          "output_type": "execute_result",
          "data": {
            "text/plain": [
              "<matplotlib.collections.PathCollection at 0x7f2e0781d610>"
            ]
          },
          "metadata": {
            "tags": []
          },
          "execution_count": 99
        },
        {
          "output_type": "display_data",
          "data": {
            "image/png": "[encoded data removed]",
            "text/plain": [
              "<Figure size 432x288 with 1 Axes>"
            ]
          },
          "metadata": {
            "tags": [],
            "needs_background": "light"
          }
        }
      ]
    },
    {
      "cell_type": "markdown",
      "metadata": {
        "id": "KkItqMXRQyJm"
      },
      "source": [
        "### cross table\r\n",
        "\r\n",
        "\r\n",
        "Background | You have employment data about   country X. You have been asked to prepare a cross-table showing that data.\r\n",
        "-- | --\r\n",
        "  | 60% of 18 to 25-year-olds are employed\r\n",
        "  | 85% of 25 to 35-year-olds are employed\r\n",
        "  | 5% of 35 to 45-year-olds are unemployed\r\n",
        "  | 3% of 45 to 55-year-olds are unemployed\r\n",
        "  | 3% of 55 to 65-year-olds are unemployed\r\n",
        "  | All 65+ are employed. Note: the definition of unemployed is:   without a job, but actively searching for one. That's probably why all 65+s   are employed.\r\n",
        "Task 1 | Create a cross table summarizing the data you have been given.\r\n",
        "Task 2 | Create a side-by-side bar chart (it is called clustered column   chart in Excel), in order to visually enhance your summary."
      ]
    },
    {
      "cell_type": "code",
      "metadata": {
        "id": "TahpXaqcQ7nV",
        "colab": {
          "base_uri": "https://localhost:8080/",
          "height": 206
        },
        "outputId": "07ed3f45-eff1-4400-fc83-36c0c10282ed"
      },
      "source": [
        "df = pd.read_csv('https://raw.githubusercontent.com/kurtzace/complete-data-science-bootcamp-excercises/main/statisticsfiles/employedcross.csv')\r\n",
        "df.head()"
      ],
      "execution_count": null,
      "outputs": [
        {
          "output_type": "execute_result",
          "data": {
            "text/html": [
              "<div>\n",
              "<style scoped>\n",
              "    .dataframe tbody tr th:only-of-type {\n",
              "        vertical-align: middle;\n",
              "    }\n",
              "\n",
              "    .dataframe tbody tr th {\n",
              "        vertical-align: top;\n",
              "    }\n",
              "\n",
              "    .dataframe thead th {\n",
              "        text-align: right;\n",
              "    }\n",
              "</style>\n",
              "<table border=\"1\" class=\"dataframe\">\n",
              "  <thead>\n",
              "    <tr style=\"text-align: right;\">\n",
              "      <th></th>\n",
              "      <th>age-employment</th>\n",
              "      <th>employed</th>\n",
              "      <th>unemployed</th>\n",
              "    </tr>\n",
              "  </thead>\n",
              "  <tbody>\n",
              "    <tr>\n",
              "      <th>0</th>\n",
              "      <td>18-25</td>\n",
              "      <td>0.60</td>\n",
              "      <td>0.40</td>\n",
              "    </tr>\n",
              "    <tr>\n",
              "      <th>1</th>\n",
              "      <td>25-35</td>\n",
              "      <td>0.85</td>\n",
              "      <td>0.15</td>\n",
              "    </tr>\n",
              "    <tr>\n",
              "      <th>2</th>\n",
              "      <td>35-45</td>\n",
              "      <td>0.95</td>\n",
              "      <td>0.05</td>\n",
              "    </tr>\n",
              "    <tr>\n",
              "      <th>3</th>\n",
              "      <td>45-55</td>\n",
              "      <td>0.97</td>\n",
              "      <td>0.03</td>\n",
              "    </tr>\n",
              "    <tr>\n",
              "      <th>4</th>\n",
              "      <td>55-65</td>\n",
              "      <td>0.97</td>\n",
              "      <td>0.03</td>\n",
              "    </tr>\n",
              "  </tbody>\n",
              "</table>\n",
              "</div>"
            ],
            "text/plain": [
              "  age-employment  employed  unemployed\n",
              "0          18-25      0.60        0.40\n",
              "1          25-35      0.85        0.15\n",
              "2          35-45      0.95        0.05\n",
              "3          45-55      0.97        0.03\n",
              "4          55-65      0.97        0.03"
            ]
          },
          "metadata": {
            "tags": []
          },
          "execution_count": 4
        }
      ]
    },
    {
      "cell_type": "code",
      "metadata": {
        "id": "-D8FacLqtZXV",
        "colab": {
          "base_uri": "https://localhost:8080/",
          "height": 237
        },
        "outputId": "5eb4b7ef-1ddb-4761-9622-4f5bb62edfd2"
      },
      "source": [
        "df['right_total']=df['employed']+df['unemployed']\r\n",
        "df.loc[5] = ['Total', df['employed'].sum(), df['unemployed'].sum(), df['right_total'].sum()]\r\n",
        "df"
      ],
      "execution_count": null,
      "outputs": [
        {
          "output_type": "execute_result",
          "data": {
            "text/html": [
              "<div>\n",
              "<style scoped>\n",
              "    .dataframe tbody tr th:only-of-type {\n",
              "        vertical-align: middle;\n",
              "    }\n",
              "\n",
              "    .dataframe tbody tr th {\n",
              "        vertical-align: top;\n",
              "    }\n",
              "\n",
              "    .dataframe thead th {\n",
              "        text-align: right;\n",
              "    }\n",
              "</style>\n",
              "<table border=\"1\" class=\"dataframe\">\n",
              "  <thead>\n",
              "    <tr style=\"text-align: right;\">\n",
              "      <th></th>\n",
              "      <th>age-employment</th>\n",
              "      <th>employed</th>\n",
              "      <th>unemployed</th>\n",
              "      <th>right_total</th>\n",
              "    </tr>\n",
              "  </thead>\n",
              "  <tbody>\n",
              "    <tr>\n",
              "      <th>0</th>\n",
              "      <td>18-25</td>\n",
              "      <td>0.60</td>\n",
              "      <td>0.40</td>\n",
              "      <td>1.0</td>\n",
              "    </tr>\n",
              "    <tr>\n",
              "      <th>1</th>\n",
              "      <td>25-35</td>\n",
              "      <td>0.85</td>\n",
              "      <td>0.15</td>\n",
              "      <td>1.0</td>\n",
              "    </tr>\n",
              "    <tr>\n",
              "      <th>2</th>\n",
              "      <td>35-45</td>\n",
              "      <td>0.95</td>\n",
              "      <td>0.05</td>\n",
              "      <td>1.0</td>\n",
              "    </tr>\n",
              "    <tr>\n",
              "      <th>3</th>\n",
              "      <td>45-55</td>\n",
              "      <td>0.97</td>\n",
              "      <td>0.03</td>\n",
              "      <td>1.0</td>\n",
              "    </tr>\n",
              "    <tr>\n",
              "      <th>4</th>\n",
              "      <td>55-65</td>\n",
              "      <td>0.97</td>\n",
              "      <td>0.03</td>\n",
              "      <td>1.0</td>\n",
              "    </tr>\n",
              "    <tr>\n",
              "      <th>5</th>\n",
              "      <td>Total</td>\n",
              "      <td>9.68</td>\n",
              "      <td>1.32</td>\n",
              "      <td>11.0</td>\n",
              "    </tr>\n",
              "  </tbody>\n",
              "</table>\n",
              "</div>"
            ],
            "text/plain": [
              "  age-employment  employed  unemployed  right_total\n",
              "0          18-25      0.60        0.40          1.0\n",
              "1          25-35      0.85        0.15          1.0\n",
              "2          35-45      0.95        0.05          1.0\n",
              "3          45-55      0.97        0.03          1.0\n",
              "4          55-65      0.97        0.03          1.0\n",
              "5          Total      9.68        1.32         11.0"
            ]
          },
          "metadata": {
            "tags": []
          },
          "execution_count": 6
        }
      ]
    },
    {
      "cell_type": "code",
      "metadata": {
        "id": "8nK94m5huLcX",
        "colab": {
          "base_uri": "https://localhost:8080/",
          "height": 266
        },
        "outputId": "c3656553-557e-46dd-aa32-8682a354d59a"
      },
      "source": [
        "ax = plt.subplot(111)\r\n",
        "ax.bar(df['age-employment'], df['employed'], width=0.5, color='b', align='center' )\r\n",
        "ax.bar(df['age-employment'], df['unemployed'], width=0.5, color='g', align='edge')\r\n",
        "ax.legend(df.columns[1:])\r\n",
        "plt.show()"
      ],
      "execution_count": null,
      "outputs": [
        {
          "output_type": "display_data",
          "data": {
            "image/png": "[encoded data removed]",
            "text/plain": [
              "<Figure size 432x288 with 1 Axes>"
            ]
          },
          "metadata": {
            "tags": [],
            "needs_background": "light"
          }
        }
      ]
    },
    {
      "cell_type": "markdown",
      "metadata": {
        "id": "UZ_tEFcmJhmV"
      },
      "source": [
        "## Mean Median Mode\r\n",
        "\r\n",
        "\r\n",
        "Background | You   have a sample of 11 people and their personal annual income.\r\n",
        "-- | --\r\n",
        "Task 1 | Calculate the mean,   median and mode\r\n",
        "Task 2 | Try to interpret on the   numbers you got\r\n",
        "\r\n",
        "\r\n",
        "Annual income \r\n",
        "- \\$62,000.00\r\n",
        "- \\$64,000.00\r\n",
        "- \\$49,000.00\r\n",
        "- \\$324,000.00\r\n",
        "- \\$1,264,000.00\r\n",
        "- \\$54,330.00\r\n",
        "- \\$64,000.00\r\n",
        "- \\$51,000.00\r\n",
        "- \\$55,000.00\r\n",
        "- \\$48,000.00\r\n",
        "- \\$53,000.00\r\n"
      ]
    },
    {
      "cell_type": "code",
      "metadata": {
        "id": "MQaP7zl9LtHs",
        "colab": {
          "base_uri": "https://localhost:8080/"
        },
        "outputId": "a18009c9-7768-4528-d3b7-77de318c8621"
      },
      "source": [
        "## With library\r\n",
        "sal = [62000.00,64000.00,49000.00,324000.00,1264000.00,54330.00,64000.00,51000.00,55000.00,48000.00,53000.00]\r\n",
        "salNum = np.array(sal)\r\n",
        "print(f'len {len(salNum)}')\r\n",
        "print(f'mean {salNum.mean()}')\r\n",
        "print(f'median {np.median(salNum)}')\r\n",
        "from scipy import stats\r\n",
        "stats.mode(salNum)\r\n",
        "\r\n",
        "## nolibrary\r\n",
        "salNum = np.array(sal)\r\n",
        "print(f'mean no lib {np.sum(salNum)/len(salNum)}')\r\n",
        "\r\n",
        "medianLow =0\r\n",
        "medianHigh =0\r\n",
        "if (len(salNum)%2)!=0:\r\n",
        "  medianLow = math.floor(len(salNum) / 2)\r\n",
        "  medianHigh =  math.ceil((len(salNum) / 2)+1)\r\n",
        "sorted = np.sort(salNum)\r\n",
        "print(sorted)\r\n",
        "print(medianLow)\r\n",
        "print(medianHigh)\r\n",
        "print(len(salNum)/2)\r\n",
        "mid= sorted[(int)(len(salNum)/2)] if (len(salNum)%2)==0 else (sorted[medianLow] + sorted[medianHigh])/2\r\n",
        "print(f'median no lib {mid}')\r\n",
        "mid= salNum[(int)(len(salNum)/2)] if (len(salNum)%2)==0 else (salNum[medianLow] + salNum[medianHigh])/2\r\n",
        "print(f'median no lib no sort {mid}')"
      ],
      "execution_count": 9,
      "outputs": [
        {
          "output_type": "stream",
          "text": [
            "len 11\n",
            "mean 189848.18181818182\n",
            "median 55000.0\n",
            "mean no lib 189848.18181818182\n",
            "[  48000.   49000.   51000.   53000.   54330.   55000.   62000.   64000.\n",
            "   64000.  324000. 1264000.]\n",
            "5\n",
            "7\n",
            "5.5\n",
            "median no lib 59500.0\n",
            "median no lib no sort 52665.0\n"
          ],
          "name": "stdout"
        }
      ]
    },
    {
      "cell_type": "markdown",
      "metadata": {
        "id": "odXdkdjUj2wB"
      },
      "source": [
        "## Skewness\r\n",
        "\r\n",
        "\r\n",
        "Background | You are given two datasets\r\n",
        "-- | --\r\n",
        "Task 1 | Identify the skewness of dataset 1. You may use the formula   from the lesson, the skewness formula in excel (=SKEW) or you can plot it on   a graph\r\n",
        "Task 2 | Identify the skewness of dataset 2. You may use the formula   from the lesson, the skewness formula in excel (=SKEW) or you can plot it on   a graph\r\n",
        "\r\n",
        "\r\n",
        "Dataset 1\r\n",
        "212,869,220,654,511,624,420,121,428,865,799,405,230,670,870,366,99,55,489,312,493,163,221,84,144,48,375,86,168,100\r\n",
        "\r\n",
        "\r\n",
        "Dataset 2\r\n",
        "\r\n",
        "586,760,495,678,559,415,370,659,119,288,241,787,522,207,160,526,656,848,720,676,581,929,653,661,770,800,529,975,995,947\r\n"
      ]
    },
    {
      "cell_type": "code",
      "metadata": {
        "id": "6wvz9AUakZ1T",
        "outputId": "5e3ea4ca-6ff0-4f40-e3e1-a768cbf826fb",
        "colab": {
          "base_uri": "https://localhost:8080/"
        }
      },
      "source": [
        "ds1=[212,869,220,654,511,624,420,121,428,865,799,405,230,670,870,366,99,55,489,312,493,163,221,84,144,48,375,86,168,100]\r\n",
        "ds2=[586,760,495,678,559,415,370,659,119,288,241,787,522,207,160,526,656,848,720,676,581,929,653,661,770,800,529,975,995,947]\r\n",
        "\r\n",
        "print(\"---DS1---\")\r\n",
        "ds1Num = np.array(ds1)\r\n",
        "print(f'len {len(ds1Num)}')\r\n",
        "print(f'mean {ds1Num.mean()}')\r\n",
        "print(f'median {np.median(ds1Num)}')\r\n",
        "from scipy import stats\r\n",
        "print(stats.mode(ds1Num))\r\n",
        "\r\n",
        "if(ds1Num.mean() > np.median(ds1Num)):\r\n",
        "  print(\"left skew\")\r\n",
        "else:\r\n",
        "  print(\"right skew\")\r\n",
        "\r\n",
        "\r\n",
        "\r\n",
        "print(\"---DS2---\")\r\n",
        "ds2Num = np.array(ds2)\r\n",
        "print(f'len {len(ds2Num)}')\r\n",
        "print(f'mean {ds2Num.mean()}')\r\n",
        "print(f'median {np.median(ds2Num)}')\r\n",
        "from scipy import stats\r\n",
        "print(stats.mode(ds2Num))\r\n",
        "\r\n",
        "if(ds2Num.mean() > np.median(ds2Num)):\r\n",
        "  print(\"left skew\")\r\n",
        "else:\r\n",
        "  print(\"right skew\")"
      ],
      "execution_count": 12,
      "outputs": [
        {
          "output_type": "stream",
          "text": [
            "---DS1---\n",
            "len 30\n",
            "mean 370.03333333333336\n",
            "median 339.0\n",
            "ModeResult(mode=array([48]), count=array([1]))\n",
            "left skew\n",
            "---DS2---\n",
            "len 30\n",
            "mean 603.7333333333333\n",
            "median 654.5\n",
            "ModeResult(mode=array([119]), count=array([1]))\n",
            "right skew\n"
          ],
          "name": "stdout"
        }
      ]
    },
    {
      "cell_type": "code",
      "metadata": {
        "id": "1wkzhz2Rln6T",
        "outputId": "455dffde-5c45-4a45-ff53-f4190138081c",
        "colab": {
          "base_uri": "https://localhost:8080/",
          "height": 338
        }
      },
      "source": [
        "plt.hist(ds1, label=\"DS1\")"
      ],
      "execution_count": 13,
      "outputs": [
        {
          "output_type": "execute_result",
          "data": {
            "text/plain": [
              "(array([7., 4., 3., 3., 3., 3., 0., 3., 0., 4.]),\n",
              " array([ 48. , 130.2, 212.4, 294.6, 376.8, 459. , 541.2, 623.4, 705.6,\n",
              "        787.8, 870. ]),\n",
              " <a list of 10 Patch objects>)"
            ]
          },
          "metadata": {
            "tags": []
          },
          "execution_count": 13
        },
        {
          "output_type": "display_data",
          "data": {
            "image/png": "[encoded data removed]",
            "text/plain": [
              "<Figure size 432x288 with 1 Axes>"
            ]
          },
          "metadata": {
            "tags": [],
            "needs_background": "light"
          }
        }
      ]
    },
    {
      "cell_type": "code",
      "metadata": {
        "id": "Pp5cUoiIlqRz",
        "outputId": "a68cfa78-3d20-47b2-d57b-ac51a4cdf4f3",
        "colab": {
          "base_uri": "https://localhost:8080/",
          "height": 338
        }
      },
      "source": [
        "plt.hist(ds2, label=\"DS2\")"
      ],
      "execution_count": 14,
      "outputs": [
        {
          "output_type": "execute_result",
          "data": {
            "text/plain": [
              "(array([2., 3., 1., 1., 4., 3., 7., 4., 1., 4.]),\n",
              " array([119. , 206.6, 294.2, 381.8, 469.4, 557. , 644.6, 732.2, 819.8,\n",
              "        907.4, 995. ]),\n",
              " <a list of 10 Patch objects>)"
            ]
          },
          "metadata": {
            "tags": []
          },
          "execution_count": 14
        },
        {
          "output_type": "display_data",
          "data": {
            "image/png": "[encoded data removed]",
            "text/plain": [
              "<Figure size 432x288 with 1 Axes>"
            ]
          },
          "metadata": {
            "tags": [],
            "needs_background": "light"
          }
        }
      ]
    },
    {
      "cell_type": "markdown",
      "metadata": {
        "id": "JwN1ZwN6ncEz"
      },
      "source": [
        "\r\n",
        "## Variance\r\n",
        "### Average income in the United   States\r\n",
        "\r\n",
        "\r\n",
        "Background | You have the annual personal   income of 11 people from the USA. You have the mean income from the exercise   on mean, median and mode\r\n",
        "-- | --\r\n",
        "Task 1 | Decide whether you have to use sample or population formula   for the variance\r\n",
        "Task 2 | Calculate the variance of their income\r\n",
        "Task 3 | Generally, what does this number tell you?\r\n",
        "\r\n",
        "\r\n",
        "Annual   income\r\n",
        "62000,64000,49000,324000,1264000,54330,64000,51000,55000,48000,53000\r\n",
        "\r\n",
        "Mean $ 189,848.18\r\n"
      ]
    },
    {
      "cell_type": "code",
      "metadata": {
        "id": "MMfkiQ9_nuak"
      },
      "source": [
        "df = pd.DataFrame([62000,64000,49000,324000,1264000,54330,64000,51000,55000,48000,53000], columns=[\"AnnualIncome\"])"
      ],
      "execution_count": 15,
      "outputs": []
    },
    {
      "cell_type": "code",
      "metadata": {
        "id": "IyJBJ1Xep6i8",
        "outputId": "8584bf23-0db1-4dd1-b451-dacdb6177f17",
        "colab": {
          "base_uri": "https://localhost:8080/",
          "height": 206
        }
      },
      "source": [
        "df[\"MinusMean\"] = (df[\"AnnualIncome\"]-189848.18)\r\n",
        "df[\"MinusMeanSq\"] = df[\"MinusMean\"].apply(lambda x:x**2)\r\n",
        "df.head()"
      ],
      "execution_count": 31,
      "outputs": [
        {
          "output_type": "execute_result",
          "data": {
            "text/html": [
              "<div>\n",
              "<style scoped>\n",
              "    .dataframe tbody tr th:only-of-type {\n",
              "        vertical-align: middle;\n",
              "    }\n",
              "\n",
              "    .dataframe tbody tr th {\n",
              "        vertical-align: top;\n",
              "    }\n",
              "\n",
              "    .dataframe thead th {\n",
              "        text-align: right;\n",
              "    }\n",
              "</style>\n",
              "<table border=\"1\" class=\"dataframe\">\n",
              "  <thead>\n",
              "    <tr style=\"text-align: right;\">\n",
              "      <th></th>\n",
              "      <th>AnnualIncome</th>\n",
              "      <th>MinusMeanSq</th>\n",
              "      <th>MinusMean</th>\n",
              "    </tr>\n",
              "  </thead>\n",
              "  <tbody>\n",
              "    <tr>\n",
              "      <th>0</th>\n",
              "      <td>62000</td>\n",
              "      <td>1.634516e+10</td>\n",
              "      <td>-127848.18</td>\n",
              "    </tr>\n",
              "    <tr>\n",
              "      <th>1</th>\n",
              "      <td>64000</td>\n",
              "      <td>1.583776e+10</td>\n",
              "      <td>-125848.18</td>\n",
              "    </tr>\n",
              "    <tr>\n",
              "      <th>2</th>\n",
              "      <td>49000</td>\n",
              "      <td>1.983821e+10</td>\n",
              "      <td>-140848.18</td>\n",
              "    </tr>\n",
              "    <tr>\n",
              "      <th>3</th>\n",
              "      <td>324000</td>\n",
              "      <td>1.799671e+10</td>\n",
              "      <td>134151.82</td>\n",
              "    </tr>\n",
              "    <tr>\n",
              "      <th>4</th>\n",
              "      <td>1264000</td>\n",
              "      <td>1.153802e+12</td>\n",
              "      <td>1074151.82</td>\n",
              "    </tr>\n",
              "  </tbody>\n",
              "</table>\n",
              "</div>"
            ],
            "text/plain": [
              "   AnnualIncome   MinusMeanSq   MinusMean\n",
              "0         62000  1.634516e+10  -127848.18\n",
              "1         64000  1.583776e+10  -125848.18\n",
              "2         49000  1.983821e+10  -140848.18\n",
              "3        324000  1.799671e+10   134151.82\n",
              "4       1264000  1.153802e+12  1074151.82"
            ]
          },
          "metadata": {
            "tags": []
          },
          "execution_count": 31
        }
      ]
    },
    {
      "cell_type": "code",
      "metadata": {
        "id": "cE_JizFGqMqy",
        "outputId": "d737e7ed-5f36-439d-b025-5f6b1f46556e",
        "colab": {
          "base_uri": "https://localhost:8080/"
        }
      },
      "source": [
        "print(df.shape[0])\r\n",
        "print(f\"Variance as per sample {(df['MinusMeanSq'].sum()/(df.shape[0]-1))}\")"
      ],
      "execution_count": 36,
      "outputs": [
        {
          "output_type": "stream",
          "text": [
            "11\n",
            "Variance as per sample 133433409536.36368\n"
          ],
          "name": "stdout"
        }
      ]
    },
    {
      "cell_type": "code",
      "metadata": {
        "id": "ru9_ICfFu6tD",
        "outputId": "67d3520d-4fbf-4f86-f2aa-9c39510beb92",
        "colab": {
          "base_uri": "https://localhost:8080/"
        }
      },
      "source": [
        "np.var(df[\"AnnualIncome\"].to_numpy())"
      ],
      "execution_count": 26,
      "outputs": [
        {
          "output_type": "execute_result",
          "data": {
            "text/plain": [
              "121303099578.51239"
            ]
          },
          "metadata": {
            "tags": []
          },
          "execution_count": 26
        }
      ]
    },
    {
      "cell_type": "markdown",
      "metadata": {
        "id": "-ZA27Ce9xGkw"
      },
      "source": [
        "## Standard Deviation and Coefficient of Variation Exercise\r\n",
        "\r\n",
        "\r\n",
        "Background | You have the annual personal   income of 11 people from the USA and 11 from Denmark. You have the mean   income for USA from previous exercises\r\n",
        "-- | --\r\n",
        "Task 1 | Decide whether you have to use sample or population formula   for the standard deviation and the coefficient of variation\r\n",
        "Task 2 | Calculate the standard deviation of income in the USA and in   Denmark\r\n",
        "  |  \r\n",
        "Task 3 | Calculate the coefficient of variation of income in the USA   and in Denmark\r\n",
        "Task 4 | Try to interpret the numbers you got\r\n",
        "\r\n",
        "\r\n",
        "Annualincome USA  |  Annual income Denmark\r\n",
        "--  | --\r\n",
        "\\$62,000.00  |  462,852.37 kr.\r\n",
        "\\$64,000.00  |  470,317.73 kr.\r\n",
        "\\$49,000.00  |  567,367.42 kr.\r\n",
        "\\$ 324,000.00  |  589,763.50 kr.\r\n",
        "\\$1,264,000.00  |  500,179.17 kr.\r\n",
        "\\$54,330.00  |  492,713.81 kr.\r\n",
        "\\$64,000.00  |  515,109.89 kr.\r\n",
        "\\$51,000.00  |  507,644.53 kr.\r\n",
        "\\$55,000.00  |  425,525.56 kr.\r\n",
        "\\$48,000.00  |  522,575.25 kr.\r\n",
        "\\$53,000.00  |  500,179.17 kr.\r\n",
        "\r\n",
        "\r\n",
        "\r\n",
        "Mean US | \\$   189,848.18\r\n",
        "-- | --\r\n",
        "Variance US | \\$**2  133,433,409,536.36\r\n",
        "\r\n"
      ]
    },
    {
      "cell_type": "code",
      "metadata": {
        "id": "skGMeA94ye1J",
        "outputId": "1e4232f7-e084-44b0-b71a-cb49fb25282d",
        "colab": {
          "base_uri": "https://localhost:8080/"
        }
      },
      "source": [
        "usa=[62000,64000,49000,324000,1264000,54330,64000,51000,55000,48000,53000]\r\n",
        "den=[462852.37,470317.73,567367.42,589763.50,500179.17,492713.81,515109.89,507644.53,425525.56,522575.25,500179.17]\r\n",
        "meanUsa = np.mean(usa)\r\n",
        "meanDen = np.mean(den)\r\n",
        "varUsa = np.var(usa) #we should have used sample formula instead\r\n",
        "varDen = np.var(den)\r\n",
        "stdUsa = np.std(usa)\r\n",
        "stdDen = np.std(den)\r\n",
        "\r\n",
        "coefficientVariationUsa = stdUsa/meanUsa\r\n",
        "coefficientVariationDen = stdDen/meanDen\r\n",
        "print(f\"US:Mean:{meanUsa},VAR:{varUsa},STD:{stdUsa}, coeff:{coefficientVariationUsa}\")\r\n",
        "print(f\"DEN:Mean:{meanDen},VAR:{varDen},STD:{stdDen}, coeff:{coefficientVariationDen}\")\r\n",
        "\r\n",
        "print(\"US has high variance, den has low variance\")"
      ],
      "execution_count": 8,
      "outputs": [
        {
          "output_type": "stream",
          "text": [
            "US:Mean:189848.18181818182,VAR:121303099578.51239,STD:348285.9451349026, coeff:1.8345498060574374\n",
            "DEN:Mean:504929.8545454545,VAR:1907771378.3224075,STD:43678.042290405, coeff:0.08650318830865059\n",
            "US has high variance, den has low variance\n"
          ],
          "name": "stdout"
        }
      ]
    },
    {
      "cell_type": "markdown",
      "metadata": {
        "id": "HL1G4-OsYEk0"
      },
      "source": [
        "## Covariance \r\n",
        "\r\n",
        "![image](https://user-images.githubusercontent.com/2136211/110451549-4e579f80-80ea-11eb-944b-71f3b683e812.png)\r\n",
        "\r\n",
        "Background | You are given data on the SAT   reading and writing scores of several students from our lesson on cross   tables and scatter plots\r\n",
        "-- | --\r\n",
        "Task   1 | Determine if this is sample or population\r\n",
        "Task   2 | Calculate the covariance of the two datasets\r\n",
        "Task   3 | Plot the data on scatter plot and using your previous   knowledge comment on whether there is a noticeable relationship between the   two variables.\r\n",
        "\r\n",
        "\r\n",
        "Writing | Reading\r\n",
        "-- | --\r\n",
        "344 | 378\r\n",
        "383 | 349\r\n",
        "611 | 503\r\n",
        "713 | 719\r\n",
        "536 | 503\r\n",
        "\r\n"
      ]
    },
    {
      "cell_type": "code",
      "metadata": {
        "id": "IF5TGks-bq-f",
        "outputId": "e288e7a0-86d1-4c01-ee29-f27d4b56306e",
        "colab": {
          "base_uri": "https://localhost:8080/",
          "height": 206
        }
      },
      "source": [
        "df = pd.read_csv(\"https://raw.githubusercontent.com/kurtzace/complete-data-science-bootcamp-excercises/main/statisticsfiles/coeffVar.csv\")\r\n",
        "df.head()"
      ],
      "execution_count": 14,
      "outputs": [
        {
          "output_type": "execute_result",
          "data": {
            "text/html": [
              "<div>\n",
              "<style scoped>\n",
              "    .dataframe tbody tr th:only-of-type {\n",
              "        vertical-align: middle;\n",
              "    }\n",
              "\n",
              "    .dataframe tbody tr th {\n",
              "        vertical-align: top;\n",
              "    }\n",
              "\n",
              "    .dataframe thead th {\n",
              "        text-align: right;\n",
              "    }\n",
              "</style>\n",
              "<table border=\"1\" class=\"dataframe\">\n",
              "  <thead>\n",
              "    <tr style=\"text-align: right;\">\n",
              "      <th></th>\n",
              "      <th>Writing</th>\n",
              "      <th>Reading</th>\n",
              "    </tr>\n",
              "  </thead>\n",
              "  <tbody>\n",
              "    <tr>\n",
              "      <th>0</th>\n",
              "      <td>344</td>\n",
              "      <td>378</td>\n",
              "    </tr>\n",
              "    <tr>\n",
              "      <th>1</th>\n",
              "      <td>383</td>\n",
              "      <td>349</td>\n",
              "    </tr>\n",
              "    <tr>\n",
              "      <th>2</th>\n",
              "      <td>611</td>\n",
              "      <td>503</td>\n",
              "    </tr>\n",
              "    <tr>\n",
              "      <th>3</th>\n",
              "      <td>713</td>\n",
              "      <td>719</td>\n",
              "    </tr>\n",
              "    <tr>\n",
              "      <th>4</th>\n",
              "      <td>536</td>\n",
              "      <td>503</td>\n",
              "    </tr>\n",
              "  </tbody>\n",
              "</table>\n",
              "</div>"
            ],
            "text/plain": [
              "   Writing  Reading\n",
              "0      344      378\n",
              "1      383      349\n",
              "2      611      503\n",
              "3      713      719\n",
              "4      536      503"
            ]
          },
          "metadata": {
            "tags": []
          },
          "execution_count": 14
        }
      ]
    },
    {
      "cell_type": "code",
      "metadata": {
        "id": "oZAgRWPab2pq",
        "outputId": "0736c73e-8d8b-4e5e-ff1e-84f1beb584fd",
        "colab": {
          "base_uri": "https://localhost:8080/",
          "height": 206
        }
      },
      "source": [
        "df[\"Numerator\"]=(df[\"Writing\"]-df[\"Writing\"].mean())*(df[\"Reading\"]-df[\"Reading\"].mean())\r\n",
        "df.head()"
      ],
      "execution_count": 17,
      "outputs": [
        {
          "output_type": "execute_result",
          "data": {
            "text/html": [
              "<div>\n",
              "<style scoped>\n",
              "    .dataframe tbody tr th:only-of-type {\n",
              "        vertical-align: middle;\n",
              "    }\n",
              "\n",
              "    .dataframe tbody tr th {\n",
              "        vertical-align: top;\n",
              "    }\n",
              "\n",
              "    .dataframe thead th {\n",
              "        text-align: right;\n",
              "    }\n",
              "</style>\n",
              "<table border=\"1\" class=\"dataframe\">\n",
              "  <thead>\n",
              "    <tr style=\"text-align: right;\">\n",
              "      <th></th>\n",
              "      <th>Writing</th>\n",
              "      <th>Reading</th>\n",
              "      <th>Numerator</th>\n",
              "    </tr>\n",
              "  </thead>\n",
              "  <tbody>\n",
              "    <tr>\n",
              "      <th>0</th>\n",
              "      <td>344</td>\n",
              "      <td>378</td>\n",
              "      <td>19490.16</td>\n",
              "    </tr>\n",
              "    <tr>\n",
              "      <th>1</th>\n",
              "      <td>383</td>\n",
              "      <td>349</td>\n",
              "      <td>19004.16</td>\n",
              "    </tr>\n",
              "    <tr>\n",
              "      <th>2</th>\n",
              "      <td>611</td>\n",
              "      <td>503</td>\n",
              "      <td>1179.36</td>\n",
              "    </tr>\n",
              "    <tr>\n",
              "      <th>3</th>\n",
              "      <td>713</td>\n",
              "      <td>719</td>\n",
              "      <td>44714.16</td>\n",
              "    </tr>\n",
              "    <tr>\n",
              "      <th>4</th>\n",
              "      <td>536</td>\n",
              "      <td>503</td>\n",
              "      <td>234.36</td>\n",
              "    </tr>\n",
              "  </tbody>\n",
              "</table>\n",
              "</div>"
            ],
            "text/plain": [
              "   Writing  Reading  Numerator\n",
              "0      344      378   19490.16\n",
              "1      383      349   19004.16\n",
              "2      611      503    1179.36\n",
              "3      713      719   44714.16\n",
              "4      536      503     234.36"
            ]
          },
          "metadata": {
            "tags": []
          },
          "execution_count": 17
        }
      ]
    },
    {
      "cell_type": "code",
      "metadata": {
        "id": "PABZ8TSOcaLX",
        "outputId": "a556d16a-b1f5-48bf-e87d-2729e1e61353",
        "colab": {
          "base_uri": "https://localhost:8080/"
        }
      },
      "source": [
        "covariance=(df[\"Numerator\"].sum())/(df[\"Numerator\"].shape[0]-1)\r\n",
        "covariance"
      ],
      "execution_count": 22,
      "outputs": [
        {
          "output_type": "execute_result",
          "data": {
            "text/plain": [
              "21155.55"
            ]
          },
          "metadata": {
            "tags": []
          },
          "execution_count": 22
        }
      ]
    },
    {
      "cell_type": "code",
      "metadata": {
        "id": "Xs3yQfuYdM1U",
        "outputId": "7dcad1b5-4e6e-43db-e0c7-140745d61d23",
        "colab": {
          "base_uri": "https://localhost:8080/",
          "height": 283
        }
      },
      "source": [
        "plt.scatter(df[\"Writing\"],df[\"Reading\"],label='Writing vs Reading')"
      ],
      "execution_count": 21,
      "outputs": [
        {
          "output_type": "execute_result",
          "data": {
            "text/plain": [
              "<matplotlib.collections.PathCollection at 0x7f71aa03af90>"
            ]
          },
          "metadata": {
            "tags": []
          },
          "execution_count": 21
        },
        {
          "output_type": "display_data",
          "data": {
            "image/png": "[encoded data removed]",
            "text/plain": [
              "<Figure size 432x288 with 1 Axes>"
            ]
          },
          "metadata": {
            "tags": [],
            "needs_background": "light"
          }
        }
      ]
    },
    {
      "cell_type": "code",
      "metadata": {
        "id": "ux920YmxeUpm",
        "outputId": "2aae59e6-4fe4-422d-c31a-5a38123c6db2",
        "colab": {
          "base_uri": "https://localhost:8080/",
          "height": 265
        }
      },
      "source": [
        "plt.scatter(df[\"Reading\"],df[\"Writing\"],label='opp')\r\n",
        "plt.show()"
      ],
      "execution_count": 24,
      "outputs": [
        {
          "output_type": "display_data",
          "data": {
            "image/png": "[encoded data removed]",
            "text/plain": [
              "<Figure size 432x288 with 1 Axes>"
            ]
          },
          "metadata": {
            "tags": [],
            "needs_background": "light"
          }
        }
      ]
    },
    {
      "cell_type": "markdown",
      "metadata": {
        "id": "a3YTYZH8fL1u"
      },
      "source": [
        "## Calculate   the correlation coefficient of the two datasets.\r\n",
        "![image](https://user-images.githubusercontent.com/2136211/110455299-47cb2700-80ee-11eb-99dd-3f898a4ef43e.png)"
      ]
    },
    {
      "cell_type": "code",
      "metadata": {
        "id": "FfNHu-qygT_P",
        "outputId": "3587d04e-e1d0-4199-afef-e16940ecb2f5",
        "colab": {
          "base_uri": "https://localhost:8080/"
        }
      },
      "source": [
        "sx=np.std(df[\"Writing\"].to_numpy())\r\n",
        "sy=np.std(df[\"Reading\"].to_numpy())\r\n",
        "\r\n",
        "print(f'Corr Coeff {(df[\"Numerator\"].sum()/df[\"Numerator\"].shape[0])/(sx*sy)}') ## strong corrr"
      ],
      "execution_count": 31,
      "outputs": [
        {
          "output_type": "stream",
          "text": [
            "Corr Coeff 0.9381257133317581\n"
          ],
          "name": "stdout"
        }
      ]
    },
    {
      "cell_type": "markdown",
      "metadata": {
        "id": "KzA6R4Ooy0I8"
      },
      "source": [
        "\r\n",
        "Standard   normal distribution\r\n",
        "\r\n",
        "Background | You are given an approximately   normally distributed dataset\r\n",
        "-- | --\r\n",
        "Task 1 | Calculate the mean and standard deviation of the dataset\r\n",
        "Task 2 | Standardize the dataset\r\n",
        "Task 3 | Plot the data on a graph to see the change\r\n",
        "\r\n",
        "\r\n",
        "\r\n",
        "Original   dataset\r\n",
        "--\r\n",
        "567.45\r\n",
        "572.45\r\n",
        "572.45\r\n",
        "589.12\r\n",
        "613.87\r\n",
        "615.78\r\n",
        "628.45\r\n",
        "644.87\r\n",
        "650.45\r\n",
        "652.20\r\n",
        "656.87\r\n",
        "661.45\r\n",
        "666.45\r\n",
        "667.70\r\n",
        "668.95\r\n",
        "675.28\r\n",
        "675.78\r\n",
        "685.53\r\n",
        "694.28\r\n",
        "697.62\r\n",
        "705.78\r\n",
        "705.87\r\n",
        "708.12\r\n",
        "711.03\r\n",
        "714.03\r\n",
        "716.03\r\n",
        "722.28\r\n",
        "728.12\r\n",
        "728.70\r\n",
        "729.03\r\n",
        "730.12\r\n",
        "731.95\r\n",
        "735.03\r\n",
        "736.95\r\n",
        "737.37\r\n",
        "738.28\r\n",
        "739.78\r\n",
        "740.62\r\n",
        "743.62\r\n",
        "747.20\r\n",
        "748.20\r\n",
        "748.28\r\n",
        "748.53\r\n",
        "750.03\r\n",
        "752.12\r\n",
        "754.70\r\n",
        "755.03\r\n",
        "758.37\r\n",
        "760.53\r\n",
        "764.03\r\n",
        "769.28\r\n",
        "775.45\r\n",
        "781.20\r\n",
        "781.70\r\n",
        "785.62\r\n",
        "792.78\r\n",
        "793.37\r\n",
        "795.28\r\n",
        "797.62\r\n",
        "798.95\r\n",
        "799.70\r\n",
        "799.95\r\n",
        "810.87\r\n",
        "811.53\r\n",
        "813.62\r\n",
        "814.03\r\n",
        "814.78\r\n",
        "817.87\r\n",
        "818.87\r\n",
        "820.70\r\n",
        "821.12\r\n",
        "825.62\r\n",
        "828.62\r\n",
        "841.45\r\n",
        "842.03\r\n",
        "842.87\r\n",
        "849.62\r\n",
        "874.70\r\n",
        "878.78\r\n",
        "897.45\r\n",
        "\r\n",
        "\r\n",
        "\r\n",
        "\r\n",
        "\r\n"
      ]
    },
    {
      "cell_type": "code",
      "metadata": {
        "id": "pPRSAjfZy7QT"
      },
      "source": [
        "preStd=[567.45,572.45,572.45,589.12,613.87,615.78,628.45,644.87,650.45,652.20,656.87,661.45,666.45,667.70,668.95,675.28,675.78,685.53,694.28,697.62,705.78,705.87,708.12,711.03,714.03,716.03,722.28,728.12,728.70,729.03,730.12,731.95,735.03,736.95,737.37,738.28,739.78,740.62,743.62,747.20,748.20,748.28,748.53,750.03,752.12,754.70,755.03,758.37,760.53,764.03,769.28,775.45,781.20,781.70,785.62,792.78,793.37,795.28,797.62,798.95,799.70,799.95,810.87,811.53,813.62,814.03,814.78,817.87,818.87,820.70,821.12,825.62,828.62,841.45,842.03,842.87,849.62,874.70,878.78,897.45]"
      ],
      "execution_count": 33,
      "outputs": []
    },
    {
      "cell_type": "code",
      "metadata": {
        "id": "ChPi6XTR0fha",
        "outputId": "8515e1fe-e6a4-4ccb-da77-8a7ed52d9004",
        "colab": {
          "base_uri": "https://localhost:8080/",
          "height": 399
        }
      },
      "source": [
        "df=pd.DataFrame(preStd, columns=[\"In\"])\r\n",
        "ourmean=np.mean(df[\"In\"])\r\n",
        "stddev=np.std(df[\"In\"])\r\n",
        "print(f\"Mean {ourmean}, stddev {stddev}\")\r\n",
        "df[\"std\"]=(df[\"In\"]-ourmean)/stddev\r\n",
        "\r\n",
        "print(f'STD: Mean {np.mean(df[\"std\"])}, stddev {np.std(df[\"std\"])}')\r\n",
        "df.head(10)"
      ],
      "execution_count": 40,
      "outputs": [
        {
          "output_type": "stream",
          "text": [
            "Mean 743.0269999999998, stddev 73.48951126521389\n",
            "STD: Mean 2.4147350785597155e-15, stddev 1.0\n"
          ],
          "name": "stdout"
        },
        {
          "output_type": "execute_result",
          "data": {
            "text/html": [
              "<div>\n",
              "<style scoped>\n",
              "    .dataframe tbody tr th:only-of-type {\n",
              "        vertical-align: middle;\n",
              "    }\n",
              "\n",
              "    .dataframe tbody tr th {\n",
              "        vertical-align: top;\n",
              "    }\n",
              "\n",
              "    .dataframe thead th {\n",
              "        text-align: right;\n",
              "    }\n",
              "</style>\n",
              "<table border=\"1\" class=\"dataframe\">\n",
              "  <thead>\n",
              "    <tr style=\"text-align: right;\">\n",
              "      <th></th>\n",
              "      <th>In</th>\n",
              "      <th>std</th>\n",
              "    </tr>\n",
              "  </thead>\n",
              "  <tbody>\n",
              "    <tr>\n",
              "      <th>0</th>\n",
              "      <td>567.45</td>\n",
              "      <td>-2.389144</td>\n",
              "    </tr>\n",
              "    <tr>\n",
              "      <th>1</th>\n",
              "      <td>572.45</td>\n",
              "      <td>-2.321107</td>\n",
              "    </tr>\n",
              "    <tr>\n",
              "      <th>2</th>\n",
              "      <td>572.45</td>\n",
              "      <td>-2.321107</td>\n",
              "    </tr>\n",
              "    <tr>\n",
              "      <th>3</th>\n",
              "      <td>589.12</td>\n",
              "      <td>-2.094272</td>\n",
              "    </tr>\n",
              "    <tr>\n",
              "      <th>4</th>\n",
              "      <td>613.87</td>\n",
              "      <td>-1.757489</td>\n",
              "    </tr>\n",
              "    <tr>\n",
              "      <th>5</th>\n",
              "      <td>615.78</td>\n",
              "      <td>-1.731499</td>\n",
              "    </tr>\n",
              "    <tr>\n",
              "      <th>6</th>\n",
              "      <td>628.45</td>\n",
              "      <td>-1.559093</td>\n",
              "    </tr>\n",
              "    <tr>\n",
              "      <th>7</th>\n",
              "      <td>644.87</td>\n",
              "      <td>-1.335660</td>\n",
              "    </tr>\n",
              "    <tr>\n",
              "      <th>8</th>\n",
              "      <td>650.45</td>\n",
              "      <td>-1.259731</td>\n",
              "    </tr>\n",
              "    <tr>\n",
              "      <th>9</th>\n",
              "      <td>652.20</td>\n",
              "      <td>-1.235918</td>\n",
              "    </tr>\n",
              "  </tbody>\n",
              "</table>\n",
              "</div>"
            ],
            "text/plain": [
              "       In       std\n",
              "0  567.45 -2.389144\n",
              "1  572.45 -2.321107\n",
              "2  572.45 -2.321107\n",
              "3  589.12 -2.094272\n",
              "4  613.87 -1.757489\n",
              "5  615.78 -1.731499\n",
              "6  628.45 -1.559093\n",
              "7  644.87 -1.335660\n",
              "8  650.45 -1.259731\n",
              "9  652.20 -1.235918"
            ]
          },
          "metadata": {
            "tags": []
          },
          "execution_count": 40
        }
      ]
    }
  ]
}