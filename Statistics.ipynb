{
  "nbformat": 4,
  "nbformat_minor": 0,
  "metadata": {
    "colab": {
      "name": "Statistics.ipynb",
      "provenance": [],
      "collapsed_sections": [],
      "authorship_tag": "ABX9TyO3Wjn3hARA2wGs4LbtA1l8",
      "include_colab_link": true
    },
    "kernelspec": {
      "name": "python3",
      "display_name": "Python 3"
    }
  },
  "cells": [
    {
      "cell_type": "markdown",
      "metadata": {
        "id": "view-in-github",
        "colab_type": "text"
      },
      "source": [
        "<a href=\"https://colab.research.google.com/github/kurtzace/complete-data-science-bootcamp-excercises/blob/main/Statistics.ipynb\" target=\"_parent\"><img src=\"https://colab.research.google.com/assets/colab-badge.svg\" alt=\"Open In Colab\"/></a>"
      ]
    },
    {
      "cell_type": "markdown",
      "metadata": {
        "id": "YDjpCqNS_BaH"
      },
      "source": [
        "\r\n",
        "Categorical variables. Visualization techniques |   scene\r\n",
        "-- | --\r\n",
        "Background | There is an ice cream   shop, that is operating in New York, LA and San Francisco.\r\n",
        "Data | You have sold 12,327 ice   creams in New York; 17,129 in LA and 19,923 in San Francisco.\r\n",
        "Task | Order the data in a   frequency distribution table. |   |  "
      ]
    },
    {
      "cell_type": "code",
      "metadata": {
        "colab": {
          "base_uri": "https://localhost:8080/",
          "height": 143
        },
        "id": "wHFphgFK-qJP",
        "outputId": "e54da9cf-6c58-4733-bd55-3845edc72224"
      },
      "source": [
        "import pandas as pd\r\n",
        "data = [['NY',12327],['LA',17129],['SF',19923]]\r\n",
        "df = pd.DataFrame(data,columns=['City','Sold'])\r\n",
        "df"
      ],
      "execution_count": 2,
      "outputs": [
        {
          "output_type": "execute_result",
          "data": {
            "text/html": [
              "<div>\n",
              "<style scoped>\n",
              "    .dataframe tbody tr th:only-of-type {\n",
              "        vertical-align: middle;\n",
              "    }\n",
              "\n",
              "    .dataframe tbody tr th {\n",
              "        vertical-align: top;\n",
              "    }\n",
              "\n",
              "    .dataframe thead th {\n",
              "        text-align: right;\n",
              "    }\n",
              "</style>\n",
              "<table border=\"1\" class=\"dataframe\">\n",
              "  <thead>\n",
              "    <tr style=\"text-align: right;\">\n",
              "      <th></th>\n",
              "      <th>City</th>\n",
              "      <th>Sold</th>\n",
              "    </tr>\n",
              "  </thead>\n",
              "  <tbody>\n",
              "    <tr>\n",
              "      <th>0</th>\n",
              "      <td>NY</td>\n",
              "      <td>12327</td>\n",
              "    </tr>\n",
              "    <tr>\n",
              "      <th>1</th>\n",
              "      <td>LA</td>\n",
              "      <td>17129</td>\n",
              "    </tr>\n",
              "    <tr>\n",
              "      <th>2</th>\n",
              "      <td>SF</td>\n",
              "      <td>19923</td>\n",
              "    </tr>\n",
              "  </tbody>\n",
              "</table>\n",
              "</div>"
            ],
            "text/plain": [
              "  City   Sold\n",
              "0   NY  12327\n",
              "1   LA  17129\n",
              "2   SF  19923"
            ]
          },
          "metadata": {
            "tags": []
          },
          "execution_count": 2
        }
      ]
    },
    {
      "cell_type": "code",
      "metadata": {
        "colab": {
          "base_uri": "https://localhost:8080/",
          "height": 284
        },
        "id": "trug_CudAGCj",
        "outputId": "12e33f97-acf5-45ab-cf19-37b7be93230b"
      },
      "source": [
        "import matplotlib.pyplot as plt\r\n",
        "plt.bar(df[\"City\"],df[\"Sold\"])"
      ],
      "execution_count": 8,
      "outputs": [
        {
          "output_type": "execute_result",
          "data": {
            "text/plain": [
              "<BarContainer object of 3 artists>"
            ]
          },
          "metadata": {
            "tags": []
          },
          "execution_count": 8
        },
        {
          "output_type": "display_data",
          "data": {
            "image/png": "[encoded data removed]",
            "text/plain": [
              "<Figure size 432x288 with 1 Axes>"
            ]
          },
          "metadata": {
            "tags": [],
            "needs_background": "light"
          }
        }
      ]
    },
    {
      "cell_type": "code",
      "metadata": {
        "colab": {
          "base_uri": "https://localhost:8080/",
          "height": 143
        },
        "id": "RR9-4EdBEIq0",
        "outputId": "69a87c0c-7f96-45fa-d088-cd9cad34b209"
      },
      "source": [
        "df['relFreq']=df[\"Sold\"]/(df[\"Sold\"].sum())\r\n",
        "df"
      ],
      "execution_count": 18,
      "outputs": [
        {
          "output_type": "execute_result",
          "data": {
            "text/html": [
              "<div>\n",
              "<style scoped>\n",
              "    .dataframe tbody tr th:only-of-type {\n",
              "        vertical-align: middle;\n",
              "    }\n",
              "\n",
              "    .dataframe tbody tr th {\n",
              "        vertical-align: top;\n",
              "    }\n",
              "\n",
              "    .dataframe thead th {\n",
              "        text-align: right;\n",
              "    }\n",
              "</style>\n",
              "<table border=\"1\" class=\"dataframe\">\n",
              "  <thead>\n",
              "    <tr style=\"text-align: right;\">\n",
              "      <th></th>\n",
              "      <th>City</th>\n",
              "      <th>Sold</th>\n",
              "      <th>relFreq</th>\n",
              "    </tr>\n",
              "  </thead>\n",
              "  <tbody>\n",
              "    <tr>\n",
              "      <th>0</th>\n",
              "      <td>NY</td>\n",
              "      <td>12327</td>\n",
              "      <td>0.249641</td>\n",
              "    </tr>\n",
              "    <tr>\n",
              "      <th>1</th>\n",
              "      <td>LA</td>\n",
              "      <td>17129</td>\n",
              "      <td>0.346888</td>\n",
              "    </tr>\n",
              "    <tr>\n",
              "      <th>2</th>\n",
              "      <td>SF</td>\n",
              "      <td>19923</td>\n",
              "      <td>0.403471</td>\n",
              "    </tr>\n",
              "  </tbody>\n",
              "</table>\n",
              "</div>"
            ],
            "text/plain": [
              "  City   Sold   relFreq\n",
              "0   NY  12327  0.249641\n",
              "1   LA  17129  0.346888\n",
              "2   SF  19923  0.403471"
            ]
          },
          "metadata": {
            "tags": []
          },
          "execution_count": 18
        }
      ]
    },
    {
      "cell_type": "code",
      "metadata": {
        "colab": {
          "base_uri": "https://localhost:8080/",
          "height": 360
        },
        "id": "JshXPfd5WQtX",
        "outputId": "148bf918-e459-481c-c3bb-836b90453289"
      },
      "source": [
        "plt.pie(df[\"relFreq\"], labels=df[\"City\"])"
      ],
      "execution_count": 22,
      "outputs": [
        {
          "output_type": "execute_result",
          "data": {
            "text/plain": [
              "([<matplotlib.patches.Wedge at 0x7f2e0897d610>,\n",
              "  <matplotlib.patches.Wedge at 0x7f2e0897d910>,\n",
              "  <matplotlib.patches.Wedge at 0x7f2e0897d9d0>],\n",
              " [Text(0.7786953361784816, 0.7769385905037035, 'NY'),\n",
              "  Text(-0.9740266733802704, 0.5111477668382838, 'LA'),\n",
              "  Text(0.32849059675245446, -1.0498066144986975, 'SF')])"
            ]
          },
          "metadata": {
            "tags": []
          },
          "execution_count": 22
        },
        {
          "output_type": "display_data",
          "data": {
            "image/png": "[encoded data removed]",
            "text/plain": [
              "<Figure size 432x288 with 1 Axes>"
            ]
          },
          "metadata": {
            "tags": []
          }
        }
      ]
    },
    {
      "cell_type": "code",
      "metadata": {
        "id": "APzrI8IVWtO4"
      },
      "source": [
        "df = df.sort_values(\"Sold\", ascending=False,axis=0)"
      ],
      "execution_count": 32,
      "outputs": []
    },
    {
      "cell_type": "code",
      "metadata": {
        "colab": {
          "base_uri": "https://localhost:8080/",
          "height": 340
        },
        "id": "uelY2Xh7YMuX",
        "outputId": "de1a9b9b-fb7e-46d3-bad4-505ff94928d5"
      },
      "source": [
        "df[\"Cumulative\"]=df[\"relFreq\"].cumsum()\r\n",
        "print(df)\r\n",
        "plt.bar(df[\"City\"],df[\"relFreq\"])\r\n",
        "plt.plot(df[\"City\"],df[\"Cumulative\"],'r')\r\n",
        "plt.show()"
      ],
      "execution_count": 40,
      "outputs": [
        {
          "output_type": "stream",
          "text": [
            "  City   Sold   relFreq  Cumulative\n",
            "2   SF  19923  0.403471    0.403471\n",
            "1   LA  17129  0.346888    0.750359\n",
            "0   NY  12327  0.249641    1.000000\n"
          ],
          "name": "stdout"
        },
        {
          "output_type": "display_data",
          "data": {
            "image/png": "[encoded data removed]",
            "text/plain": [
              "<Figure size 432x288 with 1 Axes>"
            ]
          },
          "metadata": {
            "tags": [],
            "needs_background": "light"
          }
        }
      ]
    },
    {
      "cell_type": "code",
      "metadata": {
        "id": "vHgy-4OA_BB4"
      },
      "source": [
        "## Distribution"
      ],
      "execution_count": null,
      "outputs": []
    },
    {
      "cell_type": "markdown",
      "metadata": {
        "id": "V2AosfSXCrmA"
      },
      "source": [
        "## Distribution\r\n",
        "\r\n",
        "### Dataset\r\n",
        "\r\n",
        "```\r\n",
        "13\r\n",
        "68\r\n",
        "165\r\n",
        "193\r\n",
        "216\r\n",
        "228\r\n",
        "361\r\n",
        "470\r\n",
        "500\r\n",
        "529\r\n",
        "544\r\n",
        "602\r\n",
        "647\r\n",
        "692\r\n",
        "696\r\n",
        "699\r\n",
        "809\r\n",
        "892\r\n",
        "899\r\n",
        "936\r\n",
        "```\r\n",
        "Frequency distribution table\r\n",
        "Desired intervals | 10\r\n",
        "\r\n"
      ]
    },
    {
      "cell_type": "markdown",
      "metadata": {
        "id": "t3muHiHr_Bxi"
      },
      "source": [
        "![image](https://user-images.githubusercontent.com/2136211/110235074-1a4a7600-7f54-11eb-8ad7-9e4e47ec88e8.png)\r\n"
      ]
    },
    {
      "cell_type": "code",
      "metadata": {
        "id": "UNtjWFPx_Zhh"
      },
      "source": [
        "distlist = [13,68,165,193,216,228,361,470,500,529,544,602,647,692,696,699,809,892,899,936]"
      ],
      "execution_count": 78,
      "outputs": []
    },
    {
      "cell_type": "code",
      "metadata": {
        "id": "mlBOUY9JAPIy"
      },
      "source": [
        "df = pd.DataFrame(distlist)"
      ],
      "execution_count": 81,
      "outputs": []
    },
    {
      "cell_type": "code",
      "metadata": {
        "colab": {
          "base_uri": "https://localhost:8080/",
          "height": 381
        },
        "id": "kHDk18e0CaWi",
        "outputId": "204eb740-4839-4ae8-c529-961ff84af66f"
      },
      "source": [
        "import numpy as np\r\n",
        "import math as math\r\n",
        "interval_width = math.ceil((df.stack().max() - df.stack().min())/10)\r\n",
        "print(interval_width)\r\n",
        "bins = np.arange(df.stack().min(),df.stack().max()+interval_width,interval_width)\r\n",
        "df=df.apply(lambda x: pd.cut(x, bins=bins).value_counts())\r\n",
        "df\r\n",
        "## idea from https://stackoverflow.com/a/45806493"
      ],
      "execution_count": 82,
      "outputs": [
        {
          "output_type": "stream",
          "text": [
            "93\n"
          ],
          "name": "stdout"
        },
        {
          "output_type": "execute_result",
          "data": {
            "text/html": [
              "<div>\n",
              "<style scoped>\n",
              "    .dataframe tbody tr th:only-of-type {\n",
              "        vertical-align: middle;\n",
              "    }\n",
              "\n",
              "    .dataframe tbody tr th {\n",
              "        vertical-align: top;\n",
              "    }\n",
              "\n",
              "    .dataframe thead th {\n",
              "        text-align: right;\n",
              "    }\n",
              "</style>\n",
              "<table border=\"1\" class=\"dataframe\">\n",
              "  <thead>\n",
              "    <tr style=\"text-align: right;\">\n",
              "      <th></th>\n",
              "      <th>0</th>\n",
              "    </tr>\n",
              "  </thead>\n",
              "  <tbody>\n",
              "    <tr>\n",
              "      <th>(850, 943]</th>\n",
              "      <td>3</td>\n",
              "    </tr>\n",
              "    <tr>\n",
              "      <th>(664, 757]</th>\n",
              "      <td>3</td>\n",
              "    </tr>\n",
              "    <tr>\n",
              "      <th>(478, 571]</th>\n",
              "      <td>3</td>\n",
              "    </tr>\n",
              "    <tr>\n",
              "      <th>(571, 664]</th>\n",
              "      <td>2</td>\n",
              "    </tr>\n",
              "    <tr>\n",
              "      <th>(199, 292]</th>\n",
              "      <td>2</td>\n",
              "    </tr>\n",
              "    <tr>\n",
              "      <th>(106, 199]</th>\n",
              "      <td>2</td>\n",
              "    </tr>\n",
              "    <tr>\n",
              "      <th>(757, 850]</th>\n",
              "      <td>1</td>\n",
              "    </tr>\n",
              "    <tr>\n",
              "      <th>(385, 478]</th>\n",
              "      <td>1</td>\n",
              "    </tr>\n",
              "    <tr>\n",
              "      <th>(292, 385]</th>\n",
              "      <td>1</td>\n",
              "    </tr>\n",
              "    <tr>\n",
              "      <th>(13, 106]</th>\n",
              "      <td>1</td>\n",
              "    </tr>\n",
              "  </tbody>\n",
              "</table>\n",
              "</div>"
            ],
            "text/plain": [
              "            0\n",
              "(850, 943]  3\n",
              "(664, 757]  3\n",
              "(478, 571]  3\n",
              "(571, 664]  2\n",
              "(199, 292]  2\n",
              "(106, 199]  2\n",
              "(757, 850]  1\n",
              "(385, 478]  1\n",
              "(292, 385]  1\n",
              "(13, 106]   1"
            ]
          },
          "metadata": {
            "tags": []
          },
          "execution_count": 82
        }
      ]
    },
    {
      "cell_type": "code",
      "metadata": {
        "colab": {
          "base_uri": "https://localhost:8080/",
          "height": 363
        },
        "id": "9G6eeltRFLKg",
        "outputId": "14d936b0-269c-4d06-e568-627024e68a35"
      },
      "source": [
        "df['relFreq']=round(df[0]/(df[0].sum()),2)\r\n",
        "df"
      ],
      "execution_count": 83,
      "outputs": [
        {
          "output_type": "execute_result",
          "data": {
            "text/html": [
              "<div>\n",
              "<style scoped>\n",
              "    .dataframe tbody tr th:only-of-type {\n",
              "        vertical-align: middle;\n",
              "    }\n",
              "\n",
              "    .dataframe tbody tr th {\n",
              "        vertical-align: top;\n",
              "    }\n",
              "\n",
              "    .dataframe thead th {\n",
              "        text-align: right;\n",
              "    }\n",
              "</style>\n",
              "<table border=\"1\" class=\"dataframe\">\n",
              "  <thead>\n",
              "    <tr style=\"text-align: right;\">\n",
              "      <th></th>\n",
              "      <th>0</th>\n",
              "      <th>relFreq</th>\n",
              "    </tr>\n",
              "  </thead>\n",
              "  <tbody>\n",
              "    <tr>\n",
              "      <th>(850, 943]</th>\n",
              "      <td>3</td>\n",
              "      <td>0.16</td>\n",
              "    </tr>\n",
              "    <tr>\n",
              "      <th>(664, 757]</th>\n",
              "      <td>3</td>\n",
              "      <td>0.16</td>\n",
              "    </tr>\n",
              "    <tr>\n",
              "      <th>(478, 571]</th>\n",
              "      <td>3</td>\n",
              "      <td>0.16</td>\n",
              "    </tr>\n",
              "    <tr>\n",
              "      <th>(571, 664]</th>\n",
              "      <td>2</td>\n",
              "      <td>0.11</td>\n",
              "    </tr>\n",
              "    <tr>\n",
              "      <th>(199, 292]</th>\n",
              "      <td>2</td>\n",
              "      <td>0.11</td>\n",
              "    </tr>\n",
              "    <tr>\n",
              "      <th>(106, 199]</th>\n",
              "      <td>2</td>\n",
              "      <td>0.11</td>\n",
              "    </tr>\n",
              "    <tr>\n",
              "      <th>(757, 850]</th>\n",
              "      <td>1</td>\n",
              "      <td>0.05</td>\n",
              "    </tr>\n",
              "    <tr>\n",
              "      <th>(385, 478]</th>\n",
              "      <td>1</td>\n",
              "      <td>0.05</td>\n",
              "    </tr>\n",
              "    <tr>\n",
              "      <th>(292, 385]</th>\n",
              "      <td>1</td>\n",
              "      <td>0.05</td>\n",
              "    </tr>\n",
              "    <tr>\n",
              "      <th>(13, 106]</th>\n",
              "      <td>1</td>\n",
              "      <td>0.05</td>\n",
              "    </tr>\n",
              "  </tbody>\n",
              "</table>\n",
              "</div>"
            ],
            "text/plain": [
              "            0  relFreq\n",
              "(850, 943]  3     0.16\n",
              "(664, 757]  3     0.16\n",
              "(478, 571]  3     0.16\n",
              "(571, 664]  2     0.11\n",
              "(199, 292]  2     0.11\n",
              "(106, 199]  2     0.11\n",
              "(757, 850]  1     0.05\n",
              "(385, 478]  1     0.05\n",
              "(292, 385]  1     0.05\n",
              "(13, 106]   1     0.05"
            ]
          },
          "metadata": {
            "tags": []
          },
          "execution_count": 83
        }
      ]
    },
    {
      "cell_type": "code",
      "metadata": {
        "id": "jYo9AaI4GmwQ",
        "outputId": "3a22e41d-4f01-4894-b618-590e0b13e1fe",
        "colab": {
          "base_uri": "https://localhost:8080/",
          "height": 284
        }
      },
      "source": [
        "df=df.reset_index()\r\n",
        "df[\"index_str\"]=df[\"index\"].apply(lambda x:str(x))\r\n",
        "plt.bar(df[\"index_str\"],df['relFreq'])"
      ],
      "execution_count": 95,
      "outputs": [
        {
          "output_type": "execute_result",
          "data": {
            "text/plain": [
              "<BarContainer object of 10 artists>"
            ]
          },
          "metadata": {
            "tags": []
          },
          "execution_count": 95
        },
        {
          "output_type": "display_data",
          "data": {
            "image/png": "[encoded data removed]",
            "text/plain": [
              "<Figure size 432x288 with 1 Axes>"
            ]
          },
          "metadata": {
            "tags": [],
            "needs_background": "light"
          }
        }
      ]
    }
  ]
}