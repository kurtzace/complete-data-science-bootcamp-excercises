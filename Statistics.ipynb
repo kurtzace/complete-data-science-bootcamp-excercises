{
  "nbformat": 4,
  "nbformat_minor": 0,
  "metadata": {
    "colab": {
      "name": "Statistics.ipynb",
      "provenance": [],
      "collapsed_sections": [],
      "authorship_tag": "ABX9TyM/4FDyquRyta8moMSBk6bK",
      "include_colab_link": true
    },
    "kernelspec": {
      "name": "python3",
      "display_name": "Python 3"
    }
  },
  "cells": [
    {
      "cell_type": "markdown",
      "metadata": {
        "id": "view-in-github",
        "colab_type": "text"
      },
      "source": [
        "<a href=\"https://colab.research.google.com/github/kurtzace/complete-data-science-bootcamp-excercises/blob/main/Statistics.ipynb\" target=\"_parent\"><img src=\"https://colab.research.google.com/assets/colab-badge.svg\" alt=\"Open In Colab\"/></a>"
      ]
    },
    {
      "cell_type": "markdown",
      "metadata": {
        "id": "YDjpCqNS_BaH"
      },
      "source": [
        "\r\n",
        "Categorical variables. Visualization techniques |   scene\r\n",
        "-- | --\r\n",
        "Background | There is an ice cream   shop, that is operating in New York, LA and San Francisco.\r\n",
        "Data | You have sold 12,327 ice   creams in New York; 17,129 in LA and 19,923 in San Francisco.\r\n",
        "Task | Order the data in a   frequency distribution table. |   |  "
      ]
    },
    {
      "cell_type": "code",
      "metadata": {
        "colab": {
          "base_uri": "https://localhost:8080/",
          "height": 143
        },
        "id": "wHFphgFK-qJP",
        "outputId": "b3dea39f-cbdc-44b8-9c66-d4b5a5e800da"
      },
      "source": [
        "import pandas as pd\r\n",
        "data = [['NY',12327],['LA',17129],['SF',19923]]\r\n",
        "df = pd.DataFrame(data,columns=['City','Sold'])\r\n",
        "df"
      ],
      "execution_count": 2,
      "outputs": [
        {
          "output_type": "execute_result",
          "data": {
            "text/html": [
              "<div>\n",
              "<style scoped>\n",
              "    .dataframe tbody tr th:only-of-type {\n",
              "        vertical-align: middle;\n",
              "    }\n",
              "\n",
              "    .dataframe tbody tr th {\n",
              "        vertical-align: top;\n",
              "    }\n",
              "\n",
              "    .dataframe thead th {\n",
              "        text-align: right;\n",
              "    }\n",
              "</style>\n",
              "<table border=\"1\" class=\"dataframe\">\n",
              "  <thead>\n",
              "    <tr style=\"text-align: right;\">\n",
              "      <th></th>\n",
              "      <th>City</th>\n",
              "      <th>Sold</th>\n",
              "    </tr>\n",
              "  </thead>\n",
              "  <tbody>\n",
              "    <tr>\n",
              "      <th>0</th>\n",
              "      <td>NY</td>\n",
              "      <td>12327</td>\n",
              "    </tr>\n",
              "    <tr>\n",
              "      <th>1</th>\n",
              "      <td>LA</td>\n",
              "      <td>17129</td>\n",
              "    </tr>\n",
              "    <tr>\n",
              "      <th>2</th>\n",
              "      <td>SF</td>\n",
              "      <td>19923</td>\n",
              "    </tr>\n",
              "  </tbody>\n",
              "</table>\n",
              "</div>"
            ],
            "text/plain": [
              "  City   Sold\n",
              "0   NY  12327\n",
              "1   LA  17129\n",
              "2   SF  19923"
            ]
          },
          "metadata": {
            "tags": []
          },
          "execution_count": 2
        }
      ]
    },
    {
      "cell_type": "code",
      "metadata": {
        "colab": {
          "base_uri": "https://localhost:8080/",
          "height": 283
        },
        "id": "trug_CudAGCj",
        "outputId": "ba3c0b1d-a132-42b8-b7be-bf1d821e3523"
      },
      "source": [
        "import matplotlib.pyplot as plt\r\n",
        "plt.bar(df[\"City\"],df[\"Sold\"])"
      ],
      "execution_count": 3,
      "outputs": [
        {
          "output_type": "execute_result",
          "data": {
            "text/plain": [
              "<BarContainer object of 3 artists>"
            ]
          },
          "metadata": {
            "tags": []
          },
          "execution_count": 3
        },
        {
          "output_type": "display_data",
          "data": {
            "image/png": "[encoded data removed]",
            "text/plain": [
              "<Figure size 432x288 with 1 Axes>"
            ]
          },
          "metadata": {
            "tags": [],
            "needs_background": "light"
          }
        }
      ]
    },
    {
      "cell_type": "code",
      "metadata": {
        "colab": {
          "base_uri": "https://localhost:8080/",
          "height": 143
        },
        "id": "RR9-4EdBEIq0",
        "outputId": "69a87c0c-7f96-45fa-d088-cd9cad34b209"
      },
      "source": [
        "df['relFreq']=df[\"Sold\"]/(df[\"Sold\"].sum())\r\n",
        "df"
      ],
      "execution_count": 18,
      "outputs": [
        {
          "output_type": "execute_result",
          "data": {
            "text/html": [
              "<div>\n",
              "<style scoped>\n",
              "    .dataframe tbody tr th:only-of-type {\n",
              "        vertical-align: middle;\n",
              "    }\n",
              "\n",
              "    .dataframe tbody tr th {\n",
              "        vertical-align: top;\n",
              "    }\n",
              "\n",
              "    .dataframe thead th {\n",
              "        text-align: right;\n",
              "    }\n",
              "</style>\n",
              "<table border=\"1\" class=\"dataframe\">\n",
              "  <thead>\n",
              "    <tr style=\"text-align: right;\">\n",
              "      <th></th>\n",
              "      <th>City</th>\n",
              "      <th>Sold</th>\n",
              "      <th>relFreq</th>\n",
              "    </tr>\n",
              "  </thead>\n",
              "  <tbody>\n",
              "    <tr>\n",
              "      <th>0</th>\n",
              "      <td>NY</td>\n",
              "      <td>12327</td>\n",
              "      <td>0.249641</td>\n",
              "    </tr>\n",
              "    <tr>\n",
              "      <th>1</th>\n",
              "      <td>LA</td>\n",
              "      <td>17129</td>\n",
              "      <td>0.346888</td>\n",
              "    </tr>\n",
              "    <tr>\n",
              "      <th>2</th>\n",
              "      <td>SF</td>\n",
              "      <td>19923</td>\n",
              "      <td>0.403471</td>\n",
              "    </tr>\n",
              "  </tbody>\n",
              "</table>\n",
              "</div>"
            ],
            "text/plain": [
              "  City   Sold   relFreq\n",
              "0   NY  12327  0.249641\n",
              "1   LA  17129  0.346888\n",
              "2   SF  19923  0.403471"
            ]
          },
          "metadata": {
            "tags": []
          },
          "execution_count": 18
        }
      ]
    },
    {
      "cell_type": "code",
      "metadata": {
        "colab": {
          "base_uri": "https://localhost:8080/",
          "height": 357
        },
        "id": "JshXPfd5WQtX",
        "outputId": "148bf918-e459-481c-c3bb-836b90453289"
      },
      "source": [
        "plt.pie(df[\"relFreq\"], labels=df[\"City\"])"
      ],
      "execution_count": 22,
      "outputs": [
        {
          "output_type": "execute_result",
          "data": {
            "text/plain": [
              "([<matplotlib.patches.Wedge at 0x7f2e0897d610>,\n",
              "  <matplotlib.patches.Wedge at 0x7f2e0897d910>,\n",
              "  <matplotlib.patches.Wedge at 0x7f2e0897d9d0>],\n",
              " [Text(0.7786953361784816, 0.7769385905037035, 'NY'),\n",
              "  Text(-0.9740266733802704, 0.5111477668382838, 'LA'),\n",
              "  Text(0.32849059675245446, -1.0498066144986975, 'SF')])"
            ]
          },
          "metadata": {
            "tags": []
          },
          "execution_count": 22
        },
        {
          "output_type": "display_data",
          "data": {
            "image/png": "[encoded data removed]",
            "text/plain": [
              "<Figure size 432x288 with 1 Axes>"
            ]
          },
          "metadata": {
            "tags": []
          }
        }
      ]
    },
    {
      "cell_type": "code",
      "metadata": {
        "id": "APzrI8IVWtO4"
      },
      "source": [
        "df = df.sort_values(\"Sold\", ascending=False,axis=0)"
      ],
      "execution_count": 32,
      "outputs": []
    },
    {
      "cell_type": "code",
      "metadata": {
        "colab": {
          "base_uri": "https://localhost:8080/",
          "height": 338
        },
        "id": "uelY2Xh7YMuX",
        "outputId": "de1a9b9b-fb7e-46d3-bad4-505ff94928d5"
      },
      "source": [
        "df[\"Cumulative\"]=df[\"relFreq\"].cumsum()\r\n",
        "print(df)\r\n",
        "plt.bar(df[\"City\"],df[\"relFreq\"])\r\n",
        "plt.plot(df[\"City\"],df[\"Cumulative\"],'r')\r\n",
        "plt.show()"
      ],
      "execution_count": 40,
      "outputs": [
        {
          "output_type": "stream",
          "text": [
            "  City   Sold   relFreq  Cumulative\n",
            "2   SF  19923  0.403471    0.403471\n",
            "1   LA  17129  0.346888    0.750359\n",
            "0   NY  12327  0.249641    1.000000\n"
          ],
          "name": "stdout"
        },
        {
          "output_type": "display_data",
          "data": {
            "image/png": "[encoded data removed]",
            "text/plain": [
              "<Figure size 432x288 with 1 Axes>"
            ]
          },
          "metadata": {
            "tags": [],
            "needs_background": "light"
          }
        }
      ]
    },
    {
      "cell_type": "code",
      "metadata": {
        "id": "vHgy-4OA_BB4"
      },
      "source": [
        "## Distribution"
      ],
      "execution_count": null,
      "outputs": []
    },
    {
      "cell_type": "markdown",
      "metadata": {
        "id": "V2AosfSXCrmA"
      },
      "source": [
        "## Distribution\r\n",
        "\r\n",
        "### Dataset\r\n",
        "\r\n",
        "```\r\n",
        "13\r\n",
        "68\r\n",
        "165\r\n",
        "193\r\n",
        "216\r\n",
        "228\r\n",
        "361\r\n",
        "470\r\n",
        "500\r\n",
        "529\r\n",
        "544\r\n",
        "602\r\n",
        "647\r\n",
        "692\r\n",
        "696\r\n",
        "699\r\n",
        "809\r\n",
        "892\r\n",
        "899\r\n",
        "936\r\n",
        "```\r\n",
        "Frequency distribution table\r\n",
        "Desired intervals | 10\r\n",
        "\r\n"
      ]
    },
    {
      "cell_type": "markdown",
      "metadata": {
        "id": "t3muHiHr_Bxi"
      },
      "source": [
        "![image](https://user-images.githubusercontent.com/2136211/110235074-1a4a7600-7f54-11eb-8ad7-9e4e47ec88e8.png)\r\n"
      ]
    },
    {
      "cell_type": "code",
      "metadata": {
        "id": "UNtjWFPx_Zhh"
      },
      "source": [
        "distlist = [13,68,165,193,216,228,361,470,500,529,544,602,647,692,696,699,809,892,899,936]"
      ],
      "execution_count": 78,
      "outputs": []
    },
    {
      "cell_type": "code",
      "metadata": {
        "id": "mlBOUY9JAPIy"
      },
      "source": [
        "df = pd.DataFrame(distlist)"
      ],
      "execution_count": 81,
      "outputs": []
    },
    {
      "cell_type": "code",
      "metadata": {
        "colab": {
          "base_uri": "https://localhost:8080/",
          "height": 381
        },
        "id": "kHDk18e0CaWi",
        "outputId": "204eb740-4839-4ae8-c529-961ff84af66f"
      },
      "source": [
        "import numpy as np\r\n",
        "import math as math\r\n",
        "interval_width = math.ceil((df.stack().max() - df.stack().min())/10)\r\n",
        "print(interval_width)\r\n",
        "bins = np.arange(df.stack().min(),df.stack().max()+interval_width,interval_width)\r\n",
        "df=df.apply(lambda x: pd.cut(x, bins=bins).value_counts())\r\n",
        "df\r\n",
        "## idea from https://stackoverflow.com/a/45806493"
      ],
      "execution_count": 82,
      "outputs": [
        {
          "output_type": "stream",
          "text": [
            "93\n"
          ],
          "name": "stdout"
        },
        {
          "output_type": "execute_result",
          "data": {
            "text/html": [
              "<div>\n",
              "<style scoped>\n",
              "    .dataframe tbody tr th:only-of-type {\n",
              "        vertical-align: middle;\n",
              "    }\n",
              "\n",
              "    .dataframe tbody tr th {\n",
              "        vertical-align: top;\n",
              "    }\n",
              "\n",
              "    .dataframe thead th {\n",
              "        text-align: right;\n",
              "    }\n",
              "</style>\n",
              "<table border=\"1\" class=\"dataframe\">\n",
              "  <thead>\n",
              "    <tr style=\"text-align: right;\">\n",
              "      <th></th>\n",
              "      <th>0</th>\n",
              "    </tr>\n",
              "  </thead>\n",
              "  <tbody>\n",
              "    <tr>\n",
              "      <th>(850, 943]</th>\n",
              "      <td>3</td>\n",
              "    </tr>\n",
              "    <tr>\n",
              "      <th>(664, 757]</th>\n",
              "      <td>3</td>\n",
              "    </tr>\n",
              "    <tr>\n",
              "      <th>(478, 571]</th>\n",
              "      <td>3</td>\n",
              "    </tr>\n",
              "    <tr>\n",
              "      <th>(571, 664]</th>\n",
              "      <td>2</td>\n",
              "    </tr>\n",
              "    <tr>\n",
              "      <th>(199, 292]</th>\n",
              "      <td>2</td>\n",
              "    </tr>\n",
              "    <tr>\n",
              "      <th>(106, 199]</th>\n",
              "      <td>2</td>\n",
              "    </tr>\n",
              "    <tr>\n",
              "      <th>(757, 850]</th>\n",
              "      <td>1</td>\n",
              "    </tr>\n",
              "    <tr>\n",
              "      <th>(385, 478]</th>\n",
              "      <td>1</td>\n",
              "    </tr>\n",
              "    <tr>\n",
              "      <th>(292, 385]</th>\n",
              "      <td>1</td>\n",
              "    </tr>\n",
              "    <tr>\n",
              "      <th>(13, 106]</th>\n",
              "      <td>1</td>\n",
              "    </tr>\n",
              "  </tbody>\n",
              "</table>\n",
              "</div>"
            ],
            "text/plain": [
              "            0\n",
              "(850, 943]  3\n",
              "(664, 757]  3\n",
              "(478, 571]  3\n",
              "(571, 664]  2\n",
              "(199, 292]  2\n",
              "(106, 199]  2\n",
              "(757, 850]  1\n",
              "(385, 478]  1\n",
              "(292, 385]  1\n",
              "(13, 106]   1"
            ]
          },
          "metadata": {
            "tags": []
          },
          "execution_count": 82
        }
      ]
    },
    {
      "cell_type": "code",
      "metadata": {
        "colab": {
          "base_uri": "https://localhost:8080/",
          "height": 363
        },
        "id": "9G6eeltRFLKg",
        "outputId": "14d936b0-269c-4d06-e568-627024e68a35"
      },
      "source": [
        "df['relFreq']=round(df[0]/(df[0].sum()),2)\r\n",
        "df"
      ],
      "execution_count": 83,
      "outputs": [
        {
          "output_type": "execute_result",
          "data": {
            "text/html": [
              "<div>\n",
              "<style scoped>\n",
              "    .dataframe tbody tr th:only-of-type {\n",
              "        vertical-align: middle;\n",
              "    }\n",
              "\n",
              "    .dataframe tbody tr th {\n",
              "        vertical-align: top;\n",
              "    }\n",
              "\n",
              "    .dataframe thead th {\n",
              "        text-align: right;\n",
              "    }\n",
              "</style>\n",
              "<table border=\"1\" class=\"dataframe\">\n",
              "  <thead>\n",
              "    <tr style=\"text-align: right;\">\n",
              "      <th></th>\n",
              "      <th>0</th>\n",
              "      <th>relFreq</th>\n",
              "    </tr>\n",
              "  </thead>\n",
              "  <tbody>\n",
              "    <tr>\n",
              "      <th>(850, 943]</th>\n",
              "      <td>3</td>\n",
              "      <td>0.16</td>\n",
              "    </tr>\n",
              "    <tr>\n",
              "      <th>(664, 757]</th>\n",
              "      <td>3</td>\n",
              "      <td>0.16</td>\n",
              "    </tr>\n",
              "    <tr>\n",
              "      <th>(478, 571]</th>\n",
              "      <td>3</td>\n",
              "      <td>0.16</td>\n",
              "    </tr>\n",
              "    <tr>\n",
              "      <th>(571, 664]</th>\n",
              "      <td>2</td>\n",
              "      <td>0.11</td>\n",
              "    </tr>\n",
              "    <tr>\n",
              "      <th>(199, 292]</th>\n",
              "      <td>2</td>\n",
              "      <td>0.11</td>\n",
              "    </tr>\n",
              "    <tr>\n",
              "      <th>(106, 199]</th>\n",
              "      <td>2</td>\n",
              "      <td>0.11</td>\n",
              "    </tr>\n",
              "    <tr>\n",
              "      <th>(757, 850]</th>\n",
              "      <td>1</td>\n",
              "      <td>0.05</td>\n",
              "    </tr>\n",
              "    <tr>\n",
              "      <th>(385, 478]</th>\n",
              "      <td>1</td>\n",
              "      <td>0.05</td>\n",
              "    </tr>\n",
              "    <tr>\n",
              "      <th>(292, 385]</th>\n",
              "      <td>1</td>\n",
              "      <td>0.05</td>\n",
              "    </tr>\n",
              "    <tr>\n",
              "      <th>(13, 106]</th>\n",
              "      <td>1</td>\n",
              "      <td>0.05</td>\n",
              "    </tr>\n",
              "  </tbody>\n",
              "</table>\n",
              "</div>"
            ],
            "text/plain": [
              "            0  relFreq\n",
              "(850, 943]  3     0.16\n",
              "(664, 757]  3     0.16\n",
              "(478, 571]  3     0.16\n",
              "(571, 664]  2     0.11\n",
              "(199, 292]  2     0.11\n",
              "(106, 199]  2     0.11\n",
              "(757, 850]  1     0.05\n",
              "(385, 478]  1     0.05\n",
              "(292, 385]  1     0.05\n",
              "(13, 106]   1     0.05"
            ]
          },
          "metadata": {
            "tags": []
          },
          "execution_count": 83
        }
      ]
    },
    {
      "cell_type": "code",
      "metadata": {
        "colab": {
          "base_uri": "https://localhost:8080/",
          "height": 283
        },
        "id": "jYo9AaI4GmwQ",
        "outputId": "3a22e41d-4f01-4894-b618-590e0b13e1fe"
      },
      "source": [
        "df=df.reset_index()\r\n",
        "df[\"index_str\"]=df[\"index\"].apply(lambda x:str(x))\r\n",
        "plt.bar(df[\"index_str\"],df['relFreq'])"
      ],
      "execution_count": 95,
      "outputs": [
        {
          "output_type": "execute_result",
          "data": {
            "text/plain": [
              "<BarContainer object of 10 artists>"
            ]
          },
          "metadata": {
            "tags": []
          },
          "execution_count": 95
        },
        {
          "output_type": "display_data",
          "data": {
            "image/png": "[encoded data removed]",
            "text/plain": [
              "<Figure size 432x288 with 1 Axes>"
            ]
          },
          "metadata": {
            "tags": [],
            "needs_background": "light"
          }
        }
      ]
    },
    {
      "cell_type": "markdown",
      "metadata": {
        "id": "B32Z5BdrNmLe"
      },
      "source": [
        "## Cross Tables and Scatter Plots Exercise\r\n",
        "\r\n",
        "\r\n",
        "\r\n",
        "Background | You are given the closing stock   prices of Apple, Alphabet Inc. (Google) and Bank of America on different   dates for a period of 6 months.\r\n",
        "-- | --\r\n",
        "Task 1 | Create a scatter plot with Apple and Alphabet stock   prices.\r\n",
        "Task 2 | Create a scatter plot with Apple and Bank of America stock   prices\r\n",
        "Task 3 | Explore if there is a relationship between the two variables.\r\n",
        "\r\n",
        "\r\n",
        "\r\n",
        "\r\n",
        "\r\n"
      ]
    },
    {
      "cell_type": "code",
      "metadata": {
        "id": "QaOpLJLWNneA",
        "outputId": "22125d99-2b7b-476a-917b-565090d65da6",
        "colab": {
          "base_uri": "https://localhost:8080/",
          "height": 206
        }
      },
      "source": [
        "df = pd.read_csv(\"https://raw.githubusercontent.com/kurtzace/complete-data-science-bootcamp-excercises/main/statisticsfiles/scatter.csv\")\r\n",
        "df.head()"
      ],
      "execution_count": 96,
      "outputs": [
        {
          "output_type": "execute_result",
          "data": {
            "text/html": [
              "<div>\n",
              "<style scoped>\n",
              "    .dataframe tbody tr th:only-of-type {\n",
              "        vertical-align: middle;\n",
              "    }\n",
              "\n",
              "    .dataframe tbody tr th {\n",
              "        vertical-align: top;\n",
              "    }\n",
              "\n",
              "    .dataframe thead th {\n",
              "        text-align: right;\n",
              "    }\n",
              "</style>\n",
              "<table border=\"1\" class=\"dataframe\">\n",
              "  <thead>\n",
              "    <tr style=\"text-align: right;\">\n",
              "      <th></th>\n",
              "      <th>Date</th>\n",
              "      <th>Apple (AAPL)</th>\n",
              "      <th>Alphabet (GOOGL)</th>\n",
              "      <th>Bank of America (BAC)</th>\n",
              "    </tr>\n",
              "  </thead>\n",
              "  <tbody>\n",
              "    <tr>\n",
              "      <th>0</th>\n",
              "      <td>1/3/2017</td>\n",
              "      <td>116.15</td>\n",
              "      <td>808.01</td>\n",
              "      <td>22.53</td>\n",
              "    </tr>\n",
              "    <tr>\n",
              "      <th>1</th>\n",
              "      <td>1/4/2017</td>\n",
              "      <td>116.02</td>\n",
              "      <td>807.77</td>\n",
              "      <td>22.95</td>\n",
              "    </tr>\n",
              "    <tr>\n",
              "      <th>2</th>\n",
              "      <td>1/5/2017</td>\n",
              "      <td>116.61</td>\n",
              "      <td>813.02</td>\n",
              "      <td>22.68</td>\n",
              "    </tr>\n",
              "    <tr>\n",
              "      <th>3</th>\n",
              "      <td>1/6/2017</td>\n",
              "      <td>117.91</td>\n",
              "      <td>825.21</td>\n",
              "      <td>22.68</td>\n",
              "    </tr>\n",
              "    <tr>\n",
              "      <th>4</th>\n",
              "      <td>1/9/2017</td>\n",
              "      <td>118.99</td>\n",
              "      <td>827.18</td>\n",
              "      <td>22.55</td>\n",
              "    </tr>\n",
              "  </tbody>\n",
              "</table>\n",
              "</div>"
            ],
            "text/plain": [
              "       Date  Apple (AAPL)  Alphabet (GOOGL)  Bank of America (BAC)\n",
              "0  1/3/2017        116.15            808.01                  22.53\n",
              "1  1/4/2017        116.02            807.77                  22.95\n",
              "2  1/5/2017        116.61            813.02                  22.68\n",
              "3  1/6/2017        117.91            825.21                  22.68\n",
              "4  1/9/2017        118.99            827.18                  22.55"
            ]
          },
          "metadata": {
            "tags": []
          },
          "execution_count": 96
        }
      ]
    },
    {
      "cell_type": "code",
      "metadata": {
        "id": "kCsml6-zP2p1",
        "outputId": "3aa961d2-9af8-48a2-d224-00aa2f08debd",
        "colab": {
          "base_uri": "https://localhost:8080/",
          "height": 283
        }
      },
      "source": [
        "plt.scatter(df['Apple (AAPL)'],df['Alphabet (GOOGL)'])"
      ],
      "execution_count": 98,
      "outputs": [
        {
          "output_type": "execute_result",
          "data": {
            "text/plain": [
              "<matplotlib.collections.PathCollection at 0x7f2e07c97b50>"
            ]
          },
          "metadata": {
            "tags": []
          },
          "execution_count": 98
        },
        {
          "output_type": "display_data",
          "data": {
            "image/png": "[encoded data removed]",
            "text/plain": [
              "<Figure size 432x288 with 1 Axes>"
            ]
          },
          "metadata": {
            "tags": [],
            "needs_background": "light"
          }
        }
      ]
    },
    {
      "cell_type": "code",
      "metadata": {
        "id": "4UeQEPyCQSE-",
        "outputId": "1aedb288-9d99-4ac1-d843-8f82d981fae4",
        "colab": {
          "base_uri": "https://localhost:8080/",
          "height": 283
        }
      },
      "source": [
        "plt.scatter(df['Apple (AAPL)'],df['Bank of America (BAC)'])"
      ],
      "execution_count": 99,
      "outputs": [
        {
          "output_type": "execute_result",
          "data": {
            "text/plain": [
              "<matplotlib.collections.PathCollection at 0x7f2e0781d610>"
            ]
          },
          "metadata": {
            "tags": []
          },
          "execution_count": 99
        },
        {
          "output_type": "display_data",
          "data": {
            "image/png": "[encoded data removed]",
            "text/plain": [
              "<Figure size 432x288 with 1 Axes>"
            ]
          },
          "metadata": {
            "tags": [],
            "needs_background": "light"
          }
        }
      ]
    },
    {
      "cell_type": "markdown",
      "metadata": {
        "id": "KkItqMXRQyJm"
      },
      "source": [
        "### cross table\r\n",
        "\r\n",
        "\r\n",
        "Background | You have employment data about   country X. You have been asked to prepare a cross-table showing that data.\r\n",
        "-- | --\r\n",
        "  | 60% of 18 to 25-year-olds are employed\r\n",
        "  | 85% of 25 to 35-year-olds are employed\r\n",
        "  | 5% of 35 to 45-year-olds are unemployed\r\n",
        "  | 3% of 45 to 55-year-olds are unemployed\r\n",
        "  | 3% of 55 to 65-year-olds are unemployed\r\n",
        "  | All 65+ are employed. Note: the definition of unemployed is:   without a job, but actively searching for one. That's probably why all 65+s   are employed.\r\n",
        "Task 1 | Create a cross table summarizing the data you have been given.\r\n",
        "Task 2 | Create a side-by-side bar chart (it is called clustered column   chart in Excel), in order to visually enhance your summary."
      ]
    },
    {
      "cell_type": "code",
      "metadata": {
        "id": "TahpXaqcQ7nV",
        "outputId": "07ed3f45-eff1-4400-fc83-36c0c10282ed",
        "colab": {
          "base_uri": "https://localhost:8080/",
          "height": 206
        }
      },
      "source": [
        "df = pd.read_csv('https://raw.githubusercontent.com/kurtzace/complete-data-science-bootcamp-excercises/main/statisticsfiles/employedcross.csv')\r\n",
        "df.head()"
      ],
      "execution_count": 4,
      "outputs": [
        {
          "output_type": "execute_result",
          "data": {
            "text/html": [
              "<div>\n",
              "<style scoped>\n",
              "    .dataframe tbody tr th:only-of-type {\n",
              "        vertical-align: middle;\n",
              "    }\n",
              "\n",
              "    .dataframe tbody tr th {\n",
              "        vertical-align: top;\n",
              "    }\n",
              "\n",
              "    .dataframe thead th {\n",
              "        text-align: right;\n",
              "    }\n",
              "</style>\n",
              "<table border=\"1\" class=\"dataframe\">\n",
              "  <thead>\n",
              "    <tr style=\"text-align: right;\">\n",
              "      <th></th>\n",
              "      <th>age-employment</th>\n",
              "      <th>employed</th>\n",
              "      <th>unemployed</th>\n",
              "    </tr>\n",
              "  </thead>\n",
              "  <tbody>\n",
              "    <tr>\n",
              "      <th>0</th>\n",
              "      <td>18-25</td>\n",
              "      <td>0.60</td>\n",
              "      <td>0.40</td>\n",
              "    </tr>\n",
              "    <tr>\n",
              "      <th>1</th>\n",
              "      <td>25-35</td>\n",
              "      <td>0.85</td>\n",
              "      <td>0.15</td>\n",
              "    </tr>\n",
              "    <tr>\n",
              "      <th>2</th>\n",
              "      <td>35-45</td>\n",
              "      <td>0.95</td>\n",
              "      <td>0.05</td>\n",
              "    </tr>\n",
              "    <tr>\n",
              "      <th>3</th>\n",
              "      <td>45-55</td>\n",
              "      <td>0.97</td>\n",
              "      <td>0.03</td>\n",
              "    </tr>\n",
              "    <tr>\n",
              "      <th>4</th>\n",
              "      <td>55-65</td>\n",
              "      <td>0.97</td>\n",
              "      <td>0.03</td>\n",
              "    </tr>\n",
              "  </tbody>\n",
              "</table>\n",
              "</div>"
            ],
            "text/plain": [
              "  age-employment  employed  unemployed\n",
              "0          18-25      0.60        0.40\n",
              "1          25-35      0.85        0.15\n",
              "2          35-45      0.95        0.05\n",
              "3          45-55      0.97        0.03\n",
              "4          55-65      0.97        0.03"
            ]
          },
          "metadata": {
            "tags": []
          },
          "execution_count": 4
        }
      ]
    },
    {
      "cell_type": "code",
      "metadata": {
        "id": "-D8FacLqtZXV",
        "outputId": "5eb4b7ef-1ddb-4761-9622-4f5bb62edfd2",
        "colab": {
          "base_uri": "https://localhost:8080/",
          "height": 237
        }
      },
      "source": [
        "df['right_total']=df['employed']+df['unemployed']\r\n",
        "df.loc[5] = ['Total', df['employed'].sum(), df['unemployed'].sum(), df['right_total'].sum()]\r\n",
        "df"
      ],
      "execution_count": 6,
      "outputs": [
        {
          "output_type": "execute_result",
          "data": {
            "text/html": [
              "<div>\n",
              "<style scoped>\n",
              "    .dataframe tbody tr th:only-of-type {\n",
              "        vertical-align: middle;\n",
              "    }\n",
              "\n",
              "    .dataframe tbody tr th {\n",
              "        vertical-align: top;\n",
              "    }\n",
              "\n",
              "    .dataframe thead th {\n",
              "        text-align: right;\n",
              "    }\n",
              "</style>\n",
              "<table border=\"1\" class=\"dataframe\">\n",
              "  <thead>\n",
              "    <tr style=\"text-align: right;\">\n",
              "      <th></th>\n",
              "      <th>age-employment</th>\n",
              "      <th>employed</th>\n",
              "      <th>unemployed</th>\n",
              "      <th>right_total</th>\n",
              "    </tr>\n",
              "  </thead>\n",
              "  <tbody>\n",
              "    <tr>\n",
              "      <th>0</th>\n",
              "      <td>18-25</td>\n",
              "      <td>0.60</td>\n",
              "      <td>0.40</td>\n",
              "      <td>1.0</td>\n",
              "    </tr>\n",
              "    <tr>\n",
              "      <th>1</th>\n",
              "      <td>25-35</td>\n",
              "      <td>0.85</td>\n",
              "      <td>0.15</td>\n",
              "      <td>1.0</td>\n",
              "    </tr>\n",
              "    <tr>\n",
              "      <th>2</th>\n",
              "      <td>35-45</td>\n",
              "      <td>0.95</td>\n",
              "      <td>0.05</td>\n",
              "      <td>1.0</td>\n",
              "    </tr>\n",
              "    <tr>\n",
              "      <th>3</th>\n",
              "      <td>45-55</td>\n",
              "      <td>0.97</td>\n",
              "      <td>0.03</td>\n",
              "      <td>1.0</td>\n",
              "    </tr>\n",
              "    <tr>\n",
              "      <th>4</th>\n",
              "      <td>55-65</td>\n",
              "      <td>0.97</td>\n",
              "      <td>0.03</td>\n",
              "      <td>1.0</td>\n",
              "    </tr>\n",
              "    <tr>\n",
              "      <th>5</th>\n",
              "      <td>Total</td>\n",
              "      <td>9.68</td>\n",
              "      <td>1.32</td>\n",
              "      <td>11.0</td>\n",
              "    </tr>\n",
              "  </tbody>\n",
              "</table>\n",
              "</div>"
            ],
            "text/plain": [
              "  age-employment  employed  unemployed  right_total\n",
              "0          18-25      0.60        0.40          1.0\n",
              "1          25-35      0.85        0.15          1.0\n",
              "2          35-45      0.95        0.05          1.0\n",
              "3          45-55      0.97        0.03          1.0\n",
              "4          55-65      0.97        0.03          1.0\n",
              "5          Total      9.68        1.32         11.0"
            ]
          },
          "metadata": {
            "tags": []
          },
          "execution_count": 6
        }
      ]
    },
    {
      "cell_type": "code",
      "metadata": {
        "id": "8nK94m5huLcX",
        "outputId": "c3656553-557e-46dd-aa32-8682a354d59a",
        "colab": {
          "base_uri": "https://localhost:8080/",
          "height": 266
        }
      },
      "source": [
        "ax = plt.subplot(111)\r\n",
        "ax.bar(df['age-employment'], df['employed'], width=0.5, color='b', align='center' )\r\n",
        "ax.bar(df['age-employment'], df['unemployed'], width=0.5, color='g', align='edge')\r\n",
        "ax.legend(df.columns[1:])\r\n",
        "plt.show()"
      ],
      "execution_count": 14,
      "outputs": [
        {
          "output_type": "display_data",
          "data": {
            "image/png": "[encoded data removed]",
            "text/plain": [
              "<Figure size 432x288 with 1 Axes>"
            ]
          },
          "metadata": {
            "tags": [],
            "needs_background": "light"
          }
        }
      ]
    }
  ]
}